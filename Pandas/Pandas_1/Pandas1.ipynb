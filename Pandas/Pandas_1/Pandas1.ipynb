{
 "cells": [
  {
   "cell_type": "code",
   "execution_count": 1,
   "metadata": {
    "executionInfo": {
     "elapsed": 13,
     "status": "ok",
     "timestamp": 1751915365521,
     "user": {
      "displayName": "Алексей Косухин",
      "userId": "02447672224037510931"
     },
     "user_tz": -180
    },
    "id": "xKTlxle4PkMi"
   },
   "outputs": [],
   "source": [
    "import pandas as pd"
   ]
  },
  {
   "cell_type": "markdown",
   "metadata": {
    "id": "SnGIWdCOQW67"
   },
   "source": [
    "##Создание Series##"
   ]
  },
  {
   "cell_type": "markdown",
   "metadata": {
    "id": "fmkqBzQOQrQg"
   },
   "source": [
    "Для создания объекта Series используется команда pd.Series()."
   ]
  },
  {
   "cell_type": "code",
   "execution_count": 2,
   "metadata": {
    "colab": {
     "base_uri": "https://localhost:8080/",
     "height": 303
    },
    "executionInfo": {
     "elapsed": 19,
     "status": "ok",
     "timestamp": 1751915365549,
     "user": {
      "displayName": "Алексей Косухин",
      "userId": "02447672224037510931"
     },
     "user_tz": -180
    },
    "id": "QA933DN0QeA3",
    "outputId": "426f0c3e-cfd4-4fd8-ec81-739d2569b162"
   },
   "outputs": [
    {
     "data": {
      "text/plain": [
       "UK       Англия\n",
       "CA       Канада\n",
       "US          США\n",
       "RU       Россия\n",
       "UA      Украина\n",
       "BY     Беларусь\n",
       "KZ    Казахстан\n",
       "Name: countries, dtype: object"
      ]
     },
     "execution_count": 2,
     "metadata": {},
     "output_type": "execute_result"
    }
   ],
   "source": [
    "import pandas as pd\n",
    "\n",
    "\n",
    "countries = pd.Series(\n",
    "    data = ['Англия', 'Канада', 'США', 'Россия', 'Украина', 'Беларусь', 'Казахстан'],\n",
    "    index = ['UK', 'CA', 'US', 'RU', 'UA', 'BY', 'KZ'],\n",
    "    name = 'countries'\n",
    ")\n",
    "countries"
   ]
  },
  {
   "cell_type": "code",
   "execution_count": 3,
   "metadata": {
    "colab": {
     "base_uri": "https://localhost:8080/",
     "height": 303
    },
    "executionInfo": {
     "elapsed": 9,
     "status": "ok",
     "timestamp": 1751915365555,
     "user": {
      "displayName": "Алексей Косухин",
      "userId": "02447672224037510931"
     },
     "user_tz": -180
    },
    "id": "0qFFOg9rQx0w",
    "outputId": "c519e37e-87b2-4619-b5c1-e650241f4270"
   },
   "outputs": [
    {
     "data": {
      "text/plain": [
       "UK       Англия\n",
       "CA       Канада\n",
       "US          США\n",
       "RU       Россия\n",
       "UA      Украина\n",
       "BY     Беларусь\n",
       "KZ    Казахстан\n",
       "Name: countries, dtype: object"
      ]
     },
     "execution_count": 3,
     "metadata": {},
     "output_type": "execute_result"
    }
   ],
   "source": [
    "countries = pd.Series({\n",
    "    'UK': 'Англия',\n",
    "    'CA': 'Канада',\n",
    "    'US' : 'США',\n",
    "    'RU': 'Россия',\n",
    "    'UA': 'Украина',\n",
    "    'BY': 'Беларусь',\n",
    "    'KZ': 'Казахстан'},\n",
    "    name = 'countries'\n",
    ")\n",
    "countries"
   ]
  },
  {
   "cell_type": "code",
   "execution_count": 4,
   "metadata": {
    "executionInfo": {
     "elapsed": 3,
     "status": "ok",
     "timestamp": 1751915365559,
     "user": {
      "displayName": "Алексей Косухин",
      "userId": "02447672224037510931"
     },
     "user_tz": -180
    },
    "id": "vkFwkVLDQ6oV"
   },
   "outputs": [],
   "source": [
    "# countries = pd.Series(\n",
    "#     ['Англия', 'Канада', 'США', 'Россия', 'Украина', 'Беларусь', 'Казахстан']\n",
    "# )\n",
    "# countries"
   ]
  },
  {
   "cell_type": "markdown",
   "metadata": {
    "id": "wMkE4WkwRLqj"
   },
   "source": [
    "##Доступ к данным в Series##\n",
    "\n",
    "Доступ к элементам осуществляется с использованием loc или iloc."
   ]
  },
  {
   "cell_type": "code",
   "execution_count": 5,
   "metadata": {
    "colab": {
     "base_uri": "https://localhost:8080/"
    },
    "executionInfo": {
     "elapsed": 5,
     "status": "ok",
     "timestamp": 1751915365569,
     "user": {
      "displayName": "Алексей Косухин",
      "userId": "02447672224037510931"
     },
     "user_tz": -180
    },
    "id": "h42Al8IRRlNv",
    "outputId": "538bd4d8-bdc7-4b52-96e8-98958dd312cb"
   },
   "outputs": [
    {
     "name": "stdout",
     "output_type": "stream",
     "text": [
      "США\n"
     ]
    }
   ],
   "source": [
    "print(countries.loc['US'])\n",
    "# США"
   ]
  },
  {
   "cell_type": "code",
   "execution_count": 6,
   "metadata": {
    "colab": {
     "base_uri": "https://localhost:8080/"
    },
    "executionInfo": {
     "elapsed": 4,
     "status": "ok",
     "timestamp": 1751915365574,
     "user": {
      "displayName": "Алексей Косухин",
      "userId": "02447672224037510931"
     },
     "user_tz": -180
    },
    "id": "JssyQYS-Rz1C",
    "outputId": "70b03931-125b-4843-e6d1-43dbfdf5aa7c"
   },
   "outputs": [
    {
     "name": "stdout",
     "output_type": "stream",
     "text": [
      "US       США\n",
      "RU    Россия\n",
      "UK    Англия\n",
      "Name: countries, dtype: object\n"
     ]
    }
   ],
   "source": [
    "print(countries.loc[['US', 'RU', 'UK']])"
   ]
  },
  {
   "cell_type": "code",
   "execution_count": 7,
   "metadata": {
    "colab": {
     "base_uri": "https://localhost:8080/"
    },
    "executionInfo": {
     "elapsed": 7,
     "status": "ok",
     "timestamp": 1751915365738,
     "user": {
      "displayName": "Алексей Косухин",
      "userId": "02447672224037510931"
     },
     "user_tz": -180
    },
    "id": "QA13b7-rR-qG",
    "outputId": "35815ed0-409e-4c85-9198-3117ab942ed3"
   },
   "outputs": [
    {
     "name": "stdout",
     "output_type": "stream",
     "text": [
      "Казахстан\n"
     ]
    }
   ],
   "source": [
    "print(countries.iloc[6])\n",
    "# Казахстан"
   ]
  },
  {
   "cell_type": "code",
   "execution_count": 8,
   "metadata": {
    "colab": {
     "base_uri": "https://localhost:8080/"
    },
    "executionInfo": {
     "elapsed": 34,
     "status": "ok",
     "timestamp": 1751915365775,
     "user": {
      "displayName": "Алексей Косухин",
      "userId": "02447672224037510931"
     },
     "user_tz": -180
    },
    "id": "zQ1MN_RKSEaO",
    "outputId": "ab71eeaa-a1ef-4e7e-83ae-6d5b040f058b"
   },
   "outputs": [
    {
     "name": "stdout",
     "output_type": "stream",
     "text": [
      "CA    Канада\n",
      "US       США\n",
      "RU    Россия\n",
      "Name: countries, dtype: object\n"
     ]
    }
   ],
   "source": [
    "print(countries.iloc[1:4])"
   ]
  },
  {
   "cell_type": "markdown",
   "metadata": {
    "id": "-rQaVhRSVLa4"
   },
   "source": [
    "##Создание DataFrame##\n",
    "\n",
    "DataFrame создаётся с помощью функции pd.DataFrame(). Так же, как и для Series, для создания объектов DataFrame есть несколько способов:"
   ]
  },
  {
   "cell_type": "code",
   "execution_count": 9,
   "metadata": {
    "colab": {
     "base_uri": "https://localhost:8080/",
     "height": 269
    },
    "executionInfo": {
     "elapsed": 124,
     "status": "ok",
     "timestamp": 1751915365900,
     "user": {
      "displayName": "Алексей Косухин",
      "userId": "02447672224037510931"
     },
     "user_tz": -180
    },
    "id": "LpOFQS5eVOwg",
    "outputId": "3de5beee-3fc5-4ddb-f2e8-8726f125aa1c"
   },
   "outputs": [
    {
     "data": {
      "text/html": [
       "<div>\n",
       "<style scoped>\n",
       "    .dataframe tbody tr th:only-of-type {\n",
       "        vertical-align: middle;\n",
       "    }\n",
       "\n",
       "    .dataframe tbody tr th {\n",
       "        vertical-align: top;\n",
       "    }\n",
       "\n",
       "    .dataframe thead th {\n",
       "        text-align: right;\n",
       "    }\n",
       "</style>\n",
       "<table border=\"1\" class=\"dataframe\">\n",
       "  <thead>\n",
       "    <tr style=\"text-align: right;\">\n",
       "      <th></th>\n",
       "      <th>country</th>\n",
       "      <th>population</th>\n",
       "      <th>area</th>\n",
       "    </tr>\n",
       "  </thead>\n",
       "  <tbody>\n",
       "    <tr>\n",
       "      <th>0</th>\n",
       "      <td>Англия</td>\n",
       "      <td>56.29</td>\n",
       "      <td>133396</td>\n",
       "    </tr>\n",
       "    <tr>\n",
       "      <th>1</th>\n",
       "      <td>Канада</td>\n",
       "      <td>38.05</td>\n",
       "      <td>9984670</td>\n",
       "    </tr>\n",
       "    <tr>\n",
       "      <th>2</th>\n",
       "      <td>США</td>\n",
       "      <td>322.28</td>\n",
       "      <td>9826630</td>\n",
       "    </tr>\n",
       "    <tr>\n",
       "      <th>3</th>\n",
       "      <td>Россия</td>\n",
       "      <td>146.24</td>\n",
       "      <td>17125191</td>\n",
       "    </tr>\n",
       "    <tr>\n",
       "      <th>4</th>\n",
       "      <td>Украина</td>\n",
       "      <td>45.50</td>\n",
       "      <td>603628</td>\n",
       "    </tr>\n",
       "    <tr>\n",
       "      <th>5</th>\n",
       "      <td>Беларусь</td>\n",
       "      <td>9.50</td>\n",
       "      <td>207600</td>\n",
       "    </tr>\n",
       "    <tr>\n",
       "      <th>6</th>\n",
       "      <td>Казахстан</td>\n",
       "      <td>17.04</td>\n",
       "      <td>2724902</td>\n",
       "    </tr>\n",
       "  </tbody>\n",
       "</table>\n",
       "</div>"
      ],
      "text/plain": [
       "     country  population      area\n",
       "0     Англия       56.29    133396\n",
       "1     Канада       38.05   9984670\n",
       "2        США      322.28   9826630\n",
       "3     Россия      146.24  17125191\n",
       "4    Украина       45.50    603628\n",
       "5   Беларусь        9.50    207600\n",
       "6  Казахстан       17.04   2724902"
      ]
     },
     "execution_count": 9,
     "metadata": {},
     "output_type": "execute_result"
    }
   ],
   "source": [
    "countries_df = pd.DataFrame({\n",
    "    'country': ['Англия', 'Канада', 'США', 'Россия', 'Украина', 'Беларусь', 'Казахстан'],\n",
    "    'population': [56.29, 38.05, 322.28, 146.24, 45.5, 9.5, 17.04],\n",
    "    'area': [133396, 9984670, 9826630, 17125191, 603628, 207600, 2724902]\n",
    "})\n",
    "countries_df"
   ]
  },
  {
   "cell_type": "code",
   "execution_count": 10,
   "metadata": {
    "colab": {
     "base_uri": "https://localhost:8080/",
     "height": 269
    },
    "executionInfo": {
     "elapsed": 138,
     "status": "ok",
     "timestamp": 1751915366039,
     "user": {
      "displayName": "Алексей Косухин",
      "userId": "02447672224037510931"
     },
     "user_tz": -180
    },
    "id": "yjVPJCiUVdPk",
    "outputId": "cbe2a6dc-009e-4745-a59d-14d6d64a0fe9"
   },
   "outputs": [
    {
     "data": {
      "text/html": [
       "<div>\n",
       "<style scoped>\n",
       "    .dataframe tbody tr th:only-of-type {\n",
       "        vertical-align: middle;\n",
       "    }\n",
       "\n",
       "    .dataframe tbody tr th {\n",
       "        vertical-align: top;\n",
       "    }\n",
       "\n",
       "    .dataframe thead th {\n",
       "        text-align: right;\n",
       "    }\n",
       "</style>\n",
       "<table border=\"1\" class=\"dataframe\">\n",
       "  <thead>\n",
       "    <tr style=\"text-align: right;\">\n",
       "      <th></th>\n",
       "      <th>country</th>\n",
       "      <th>population</th>\n",
       "      <th>area</th>\n",
       "    </tr>\n",
       "  </thead>\n",
       "  <tbody>\n",
       "    <tr>\n",
       "      <th>UK</th>\n",
       "      <td>Англия</td>\n",
       "      <td>56.29</td>\n",
       "      <td>133396</td>\n",
       "    </tr>\n",
       "    <tr>\n",
       "      <th>CA</th>\n",
       "      <td>Канада</td>\n",
       "      <td>38.05</td>\n",
       "      <td>9984670</td>\n",
       "    </tr>\n",
       "    <tr>\n",
       "      <th>US</th>\n",
       "      <td>США</td>\n",
       "      <td>322.28</td>\n",
       "      <td>9826630</td>\n",
       "    </tr>\n",
       "    <tr>\n",
       "      <th>RU</th>\n",
       "      <td>Россия</td>\n",
       "      <td>146.24</td>\n",
       "      <td>17125191</td>\n",
       "    </tr>\n",
       "    <tr>\n",
       "      <th>UA</th>\n",
       "      <td>Украина</td>\n",
       "      <td>45.50</td>\n",
       "      <td>603628</td>\n",
       "    </tr>\n",
       "    <tr>\n",
       "      <th>BY</th>\n",
       "      <td>Беларусь</td>\n",
       "      <td>9.50</td>\n",
       "      <td>207600</td>\n",
       "    </tr>\n",
       "    <tr>\n",
       "      <th>KZ</th>\n",
       "      <td>Казахстан</td>\n",
       "      <td>17.04</td>\n",
       "      <td>2724902</td>\n",
       "    </tr>\n",
       "  </tbody>\n",
       "</table>\n",
       "</div>"
      ],
      "text/plain": [
       "      country  population      area\n",
       "UK     Англия       56.29    133396\n",
       "CA     Канада       38.05   9984670\n",
       "US        США      322.28   9826630\n",
       "RU     Россия      146.24  17125191\n",
       "UA    Украина       45.50    603628\n",
       "BY   Беларусь        9.50    207600\n",
       "KZ  Казахстан       17.04   2724902"
      ]
     },
     "metadata": {},
     "output_type": "display_data"
    }
   ],
   "source": [
    "countries_df.index = ['UK', 'CA', 'US', 'RU', 'UA', 'BY', 'KZ']\n",
    "display(countries_df)"
   ]
  },
  {
   "cell_type": "code",
   "execution_count": 11,
   "metadata": {
    "colab": {
     "base_uri": "https://localhost:8080/",
     "height": 269
    },
    "executionInfo": {
     "elapsed": 31,
     "status": "ok",
     "timestamp": 1751915366039,
     "user": {
      "displayName": "Алексей Косухин",
      "userId": "02447672224037510931"
     },
     "user_tz": -180
    },
    "id": "GFT-yyEMVosh",
    "outputId": "63d26c80-4b84-4a36-b494-0c66963fba9c"
   },
   "outputs": [
    {
     "data": {
      "text/html": [
       "<div>\n",
       "<style scoped>\n",
       "    .dataframe tbody tr th:only-of-type {\n",
       "        vertical-align: middle;\n",
       "    }\n",
       "\n",
       "    .dataframe tbody tr th {\n",
       "        vertical-align: top;\n",
       "    }\n",
       "\n",
       "    .dataframe thead th {\n",
       "        text-align: right;\n",
       "    }\n",
       "</style>\n",
       "<table border=\"1\" class=\"dataframe\">\n",
       "  <thead>\n",
       "    <tr style=\"text-align: right;\">\n",
       "      <th></th>\n",
       "      <th>country</th>\n",
       "      <th>population</th>\n",
       "      <th>area</th>\n",
       "    </tr>\n",
       "  </thead>\n",
       "  <tbody>\n",
       "    <tr>\n",
       "      <th>UK</th>\n",
       "      <td>Англия</td>\n",
       "      <td>56.29</td>\n",
       "      <td>133396</td>\n",
       "    </tr>\n",
       "    <tr>\n",
       "      <th>CA</th>\n",
       "      <td>Канада</td>\n",
       "      <td>38.05</td>\n",
       "      <td>9984670</td>\n",
       "    </tr>\n",
       "    <tr>\n",
       "      <th>US</th>\n",
       "      <td>США</td>\n",
       "      <td>322.28</td>\n",
       "      <td>9826630</td>\n",
       "    </tr>\n",
       "    <tr>\n",
       "      <th>RU</th>\n",
       "      <td>Россия</td>\n",
       "      <td>146.24</td>\n",
       "      <td>17125191</td>\n",
       "    </tr>\n",
       "    <tr>\n",
       "      <th>UA</th>\n",
       "      <td>Украина</td>\n",
       "      <td>45.50</td>\n",
       "      <td>603628</td>\n",
       "    </tr>\n",
       "    <tr>\n",
       "      <th>BY</th>\n",
       "      <td>Беларусь</td>\n",
       "      <td>9.50</td>\n",
       "      <td>207600</td>\n",
       "    </tr>\n",
       "    <tr>\n",
       "      <th>KZ</th>\n",
       "      <td>Казахстан</td>\n",
       "      <td>17.04</td>\n",
       "      <td>2724902</td>\n",
       "    </tr>\n",
       "  </tbody>\n",
       "</table>\n",
       "</div>"
      ],
      "text/plain": [
       "      country  population      area\n",
       "UK     Англия       56.29    133396\n",
       "CA     Канада       38.05   9984670\n",
       "US        США      322.28   9826630\n",
       "RU     Россия      146.24  17125191\n",
       "UA    Украина       45.50    603628\n",
       "BY   Беларусь        9.50    207600\n",
       "KZ  Казахстан       17.04   2724902"
      ]
     },
     "metadata": {},
     "output_type": "display_data"
    }
   ],
   "source": [
    "countries_df = pd.DataFrame(\n",
    "    data = [\n",
    "        ['Англия', 56.29, 133396],\n",
    "        ['Канада', 38.05, 9984670],\n",
    "        ['США', 322.28, 9826630],\n",
    "        ['Россия', 146.24, 17125191],\n",
    "        ['Украина', 45.5, 603628],\n",
    "        ['Беларусь', 9.5, 207600],\n",
    "        ['Казахстан', 17.04, 2724902]\n",
    "    ],\n",
    "    columns= ['country', 'population', 'area'],\n",
    "    index = ['UK', 'CA', 'US', 'RU', 'UA', 'BY', 'KZ']\n",
    ")\n",
    "display(countries_df)"
   ]
  },
  {
   "cell_type": "code",
   "execution_count": 12,
   "metadata": {
    "colab": {
     "base_uri": "https://localhost:8080/",
     "height": 147
    },
    "executionInfo": {
     "elapsed": 5,
     "status": "ok",
     "timestamp": 1751915366042,
     "user": {
      "displayName": "Алексей Косухин",
      "userId": "02447672224037510931"
     },
     "user_tz": -180
    },
    "id": "mdTqgyR9Vs-Q",
    "outputId": "5a59b158-5978-452f-8ea5-8f14054e2454"
   },
   "outputs": [
    {
     "data": {
      "text/plain": [
       "population    9.070000e+01\n",
       "area          5.800860e+06\n",
       "dtype: float64"
      ]
     },
     "execution_count": 12,
     "metadata": {},
     "output_type": "execute_result"
    }
   ],
   "source": [
    "countries_df.mean(axis=0, numeric_only=True)"
   ]
  },
  {
   "cell_type": "code",
   "execution_count": 13,
   "metadata": {
    "colab": {
     "base_uri": "https://localhost:8080/",
     "height": 303
    },
    "executionInfo": {
     "elapsed": 4,
     "status": "ok",
     "timestamp": 1751915366047,
     "user": {
      "displayName": "Алексей Косухин",
      "userId": "02447672224037510931"
     },
     "user_tz": -180
    },
    "id": "aYMHtMRVWIaN",
    "outputId": "77885919-5f40-4cf8-8d14-690b33d9a112"
   },
   "outputs": [
    {
     "data": {
      "text/plain": [
       "UK      66726.145\n",
       "CA    4992354.025\n",
       "US    4913476.140\n",
       "RU    8562668.620\n",
       "UA     301836.750\n",
       "BY     103804.750\n",
       "KZ    1362459.520\n",
       "dtype: float64"
      ]
     },
     "execution_count": 13,
     "metadata": {},
     "output_type": "execute_result"
    }
   ],
   "source": [
    "countries_df.mean(axis=1, numeric_only=True)"
   ]
  },
  {
   "cell_type": "markdown",
   "metadata": {
    "id": "wZoH2Hd7WSgb"
   },
   "source": [
    "##Доступ к данным в DataFrame##"
   ]
  },
  {
   "cell_type": "code",
   "execution_count": 14,
   "metadata": {
    "colab": {
     "base_uri": "https://localhost:8080/",
     "height": 303
    },
    "executionInfo": {
     "elapsed": 4,
     "status": "ok",
     "timestamp": 1751915366052,
     "user": {
      "displayName": "Алексей Косухин",
      "userId": "02447672224037510931"
     },
     "user_tz": -180
    },
    "id": "NDo9s_bnWNlw",
    "outputId": "7afafdd3-e7bf-4bca-ff23-b13909cfd1ed"
   },
   "outputs": [
    {
     "data": {
      "text/plain": [
       "UK     56.29\n",
       "CA     38.05\n",
       "US    322.28\n",
       "RU    146.24\n",
       "UA     45.50\n",
       "BY      9.50\n",
       "KZ     17.04\n",
       "Name: population, dtype: float64"
      ]
     },
     "execution_count": 14,
     "metadata": {},
     "output_type": "execute_result"
    }
   ],
   "source": [
    "countries_df.population"
   ]
  },
  {
   "cell_type": "code",
   "execution_count": 15,
   "metadata": {
    "colab": {
     "base_uri": "https://localhost:8080/",
     "height": 303
    },
    "executionInfo": {
     "elapsed": 91,
     "status": "ok",
     "timestamp": 1751915366145,
     "user": {
      "displayName": "Алексей Косухин",
      "userId": "02447672224037510931"
     },
     "user_tz": -180
    },
    "id": "3MK8PQkdWqhw",
    "outputId": "de5954ae-0449-4998-f0fb-a6e0ec144d6d"
   },
   "outputs": [
    {
     "data": {
      "text/plain": [
       "UK     56.29\n",
       "CA     38.05\n",
       "US    322.28\n",
       "RU    146.24\n",
       "UA     45.50\n",
       "BY      9.50\n",
       "KZ     17.04\n",
       "Name: population, dtype: float64"
      ]
     },
     "execution_count": 15,
     "metadata": {},
     "output_type": "execute_result"
    }
   ],
   "source": [
    "countries_df['population']"
   ]
  },
  {
   "cell_type": "markdown",
   "metadata": {
    "id": "A_un8ZPKW6NX"
   },
   "source": [
    "Площадь Великобритании"
   ]
  },
  {
   "cell_type": "code",
   "execution_count": 16,
   "metadata": {
    "colab": {
     "base_uri": "https://localhost:8080/"
    },
    "executionInfo": {
     "elapsed": 69,
     "status": "ok",
     "timestamp": 1751915366146,
     "user": {
      "displayName": "Алексей Косухин",
      "userId": "02447672224037510931"
     },
     "user_tz": -180
    },
    "id": "05s0gK8EWtlL",
    "outputId": "49007249-d27e-4d55-acde-29d9171b7339"
   },
   "outputs": [
    {
     "data": {
      "text/plain": [
       "133396"
      ]
     },
     "execution_count": 16,
     "metadata": {},
     "output_type": "execute_result"
    }
   ],
   "source": [
    "countries_df.loc['UK', 'area']"
   ]
  },
  {
   "cell_type": "markdown",
   "metadata": {
    "id": "HxRcxnYiXIOt"
   },
   "source": [
    "Получим население и площадь, соответствующие России:\n",
    "\n",
    "countries_df.loc['RU', ['population', 'area']]"
   ]
  },
  {
   "cell_type": "code",
   "execution_count": 17,
   "metadata": {
    "colab": {
     "base_uri": "https://localhost:8080/",
     "height": 147
    },
    "executionInfo": {
     "elapsed": 13,
     "status": "ok",
     "timestamp": 1751915366147,
     "user": {
      "displayName": "Алексей Косухин",
      "userId": "02447672224037510931"
     },
     "user_tz": -180
    },
    "id": "iaW-invDW9So",
    "outputId": "6984485e-de1e-4061-ae23-877808bea6cd"
   },
   "outputs": [
    {
     "data": {
      "text/plain": [
       "population      146.24\n",
       "area          17125191\n",
       "Name: RU, dtype: object"
      ]
     },
     "execution_count": 17,
     "metadata": {},
     "output_type": "execute_result"
    }
   ],
   "source": [
    "countries_df.loc['RU', ['population', 'area']]"
   ]
  },
  {
   "cell_type": "markdown",
   "metadata": {
    "id": "-SFkwgVZXN0x"
   },
   "source": [
    "Сделаем вырезку из таблицы и получим информацию о населении и площади, соответствующую Украине, Беларуси и Казахстану:"
   ]
  },
  {
   "cell_type": "code",
   "execution_count": 18,
   "metadata": {
    "colab": {
     "base_uri": "https://localhost:8080/",
     "height": 143
    },
    "executionInfo": {
     "elapsed": 15,
     "status": "ok",
     "timestamp": 1751915366155,
     "user": {
      "displayName": "Алексей Косухин",
      "userId": "02447672224037510931"
     },
     "user_tz": -180
    },
    "id": "uwRPhrvvXO3I",
    "outputId": "316db6c9-a463-4d6d-8f1e-2f41e4ffb3c7"
   },
   "outputs": [
    {
     "data": {
      "text/html": [
       "<div>\n",
       "<style scoped>\n",
       "    .dataframe tbody tr th:only-of-type {\n",
       "        vertical-align: middle;\n",
       "    }\n",
       "\n",
       "    .dataframe tbody tr th {\n",
       "        vertical-align: top;\n",
       "    }\n",
       "\n",
       "    .dataframe thead th {\n",
       "        text-align: right;\n",
       "    }\n",
       "</style>\n",
       "<table border=\"1\" class=\"dataframe\">\n",
       "  <thead>\n",
       "    <tr style=\"text-align: right;\">\n",
       "      <th></th>\n",
       "      <th>population</th>\n",
       "      <th>area</th>\n",
       "    </tr>\n",
       "  </thead>\n",
       "  <tbody>\n",
       "    <tr>\n",
       "      <th>UA</th>\n",
       "      <td>45.50</td>\n",
       "      <td>603628</td>\n",
       "    </tr>\n",
       "    <tr>\n",
       "      <th>BY</th>\n",
       "      <td>9.50</td>\n",
       "      <td>207600</td>\n",
       "    </tr>\n",
       "    <tr>\n",
       "      <th>KZ</th>\n",
       "      <td>17.04</td>\n",
       "      <td>2724902</td>\n",
       "    </tr>\n",
       "  </tbody>\n",
       "</table>\n",
       "</div>"
      ],
      "text/plain": [
       "    population     area\n",
       "UA       45.50   603628\n",
       "BY        9.50   207600\n",
       "KZ       17.04  2724902"
      ]
     },
     "execution_count": 18,
     "metadata": {},
     "output_type": "execute_result"
    }
   ],
   "source": [
    "countries_df.loc[['UA', 'BY', 'KZ'],['population', 'area']]"
   ]
  },
  {
   "cell_type": "code",
   "execution_count": 19,
   "metadata": {
    "colab": {
     "base_uri": "https://localhost:8080/",
     "height": 143
    },
    "executionInfo": {
     "elapsed": 6,
     "status": "ok",
     "timestamp": 1751915366163,
     "user": {
      "displayName": "Алексей Косухин",
      "userId": "02447672224037510931"
     },
     "user_tz": -180
    },
    "id": "0jktIm9fXTK8",
    "outputId": "311c6585-7bcd-401e-c36a-3cb1ecce8955"
   },
   "outputs": [
    {
     "data": {
      "text/html": [
       "<div>\n",
       "<style scoped>\n",
       "    .dataframe tbody tr th:only-of-type {\n",
       "        vertical-align: middle;\n",
       "    }\n",
       "\n",
       "    .dataframe tbody tr th {\n",
       "        vertical-align: top;\n",
       "    }\n",
       "\n",
       "    .dataframe thead th {\n",
       "        text-align: right;\n",
       "    }\n",
       "</style>\n",
       "<table border=\"1\" class=\"dataframe\">\n",
       "  <thead>\n",
       "    <tr style=\"text-align: right;\">\n",
       "      <th></th>\n",
       "      <th>population</th>\n",
       "      <th>area</th>\n",
       "    </tr>\n",
       "  </thead>\n",
       "  <tbody>\n",
       "    <tr>\n",
       "      <th>UA</th>\n",
       "      <td>45.50</td>\n",
       "      <td>603628</td>\n",
       "    </tr>\n",
       "    <tr>\n",
       "      <th>BY</th>\n",
       "      <td>9.50</td>\n",
       "      <td>207600</td>\n",
       "    </tr>\n",
       "    <tr>\n",
       "      <th>KZ</th>\n",
       "      <td>17.04</td>\n",
       "      <td>2724902</td>\n",
       "    </tr>\n",
       "  </tbody>\n",
       "</table>\n",
       "</div>"
      ],
      "text/plain": [
       "    population     area\n",
       "UA       45.50   603628\n",
       "BY        9.50   207600\n",
       "KZ       17.04  2724902"
      ]
     },
     "execution_count": 19,
     "metadata": {},
     "output_type": "execute_result"
    }
   ],
   "source": [
    "countries_df.iloc[4:8, 1:3]"
   ]
  },
  {
   "cell_type": "markdown",
   "metadata": {
    "id": "-0MIKKhubhT3"
   },
   "source": [
    "##Запись в csv-файл##\n",
    "Экспорт данных в формат csv осуществляется с помощью метода DataFrame to_csv().  "
   ]
  },
  {
   "cell_type": "markdown",
   "metadata": {
    "id": "lOAGwOLPbr5o"
   },
   "source": [
    "\n",
    "\n",
    "*   path_or_buf — путь до файла, в который будет записан DataFrame (например, data/my_data.csv);\n",
    "* sep — разделитель данных в выходном файле (по умолчанию ',');\n",
    "* decimal — разделитель чисел на целую и дробную части в выходном файле (по умолчанию '.');\n",
    "* columns — список столбцов, которые нужно записать в файл (по умолчанию записываются все столбцы);\n",
    "* index — параметр, определяющий, требуется ли создавать дополнительный столбец с индексами строк в файле (по умолчанию True)."
   ]
  },
  {
   "cell_type": "code",
   "execution_count": 20,
   "metadata": {
    "executionInfo": {
     "elapsed": 2,
     "status": "ok",
     "timestamp": 1751915366166,
     "user": {
      "displayName": "Алексей Косухин",
      "userId": "02447672224037510931"
     },
     "user_tz": -180
    },
    "id": "RN7XvoWKaT9O"
   },
   "outputs": [],
   "source": [
    "countries_df = pd.DataFrame({\n",
    "    'country': ['Англия', 'Канада', 'США', 'Россия', 'Украина', 'Беларусь', 'Казахстан'],\n",
    "    'population': [56.29, 38.05, 322.28, 146.24, 45.5, 9.5, 17.04],\n",
    "    'area': [133396, 9984670, 9826630, 17125191, 603628, 207600, 2724902]\n",
    "})\n",
    "\n",
    "# countries_df.to_csv('data/countries.csv', index=False, sep=';')"
   ]
  },
  {
   "cell_type": "markdown",
   "metadata": {
    "id": "FgmTXN1XcoLZ"
   },
   "source": [
    "##Чтение csv-файла##"
   ]
  },
  {
   "cell_type": "markdown",
   "metadata": {
    "id": "jMqiFTYpctg1"
   },
   "source": [
    "Для чтения таблицы из csv-файла используется функция модуля Pandas read_csv. Функция возвращает DataFrame и имеет несколько важных параметров."
   ]
  },
  {
   "cell_type": "markdown",
   "metadata": {
    "id": "fU4wdfAocutL"
   },
   "source": [
    "\n",
    "\n",
    "*   filepath_or_buffer — путь до файла, который мы читаем;\n",
    "\n",
    "*   sep — разделитель данных (по умолчанию ',');\n",
    "* decimal — разделитель чисел на целую и дробную часть в выходном файле (по умолчанию '.');\n",
    "\n",
    "\n",
    "*   names — список с названиями столбцов для чтения;\n",
    "* skiprows — количество строк в файле, которые нужно пропустить (например, файл может содержать служебную информацию, которая нам не нужна).\n",
    "\n",
    "\n",
    "\n"
   ]
  },
  {
   "cell_type": "code",
   "execution_count": 21,
   "metadata": {
    "colab": {
     "base_uri": "https://localhost:8080/",
     "height": 269
    },
    "executionInfo": {
     "elapsed": 9,
     "status": "ok",
     "timestamp": 1751915366177,
     "user": {
      "displayName": "Алексей Косухин",
      "userId": "02447672224037510931"
     },
     "user_tz": -180
    },
    "id": "at32h0Sgc97_",
    "outputId": "160c3981-88d5-4b18-a6f3-1505a35bc95d"
   },
   "outputs": [],
   "source": [
    "# countries_data = pd.read_csv('data/countries.csv', sep=';')\n",
    "# display(countries_data)"
   ]
  },
  {
   "cell_type": "code",
   "execution_count": 22,
   "metadata": {
    "colab": {
     "base_uri": "https://localhost:8080/",
     "height": 704
    },
    "executionInfo": {
     "elapsed": 294,
     "status": "ok",
     "timestamp": 1751915366473,
     "user": {
      "displayName": "Алексей Косухин",
      "userId": "02447672224037510931"
     },
     "user_tz": -180
    },
    "id": "1D1ndyfUdFCG",
    "outputId": "0a8b6134-112e-45d5-f5a3-3262ce2676eb"
   },
   "outputs": [
    {
     "data": {
      "text/html": [
       "<div>\n",
       "<style scoped>\n",
       "    .dataframe tbody tr th:only-of-type {\n",
       "        vertical-align: middle;\n",
       "    }\n",
       "\n",
       "    .dataframe tbody tr th {\n",
       "        vertical-align: top;\n",
       "    }\n",
       "\n",
       "    .dataframe thead th {\n",
       "        text-align: right;\n",
       "    }\n",
       "</style>\n",
       "<table border=\"1\" class=\"dataframe\">\n",
       "  <thead>\n",
       "    <tr style=\"text-align: right;\">\n",
       "      <th></th>\n",
       "      <th>Unnamed: 0</th>\n",
       "      <th>Suburb</th>\n",
       "      <th>Address</th>\n",
       "      <th>Rooms</th>\n",
       "      <th>Type</th>\n",
       "      <th>Price</th>\n",
       "      <th>Method</th>\n",
       "      <th>SellerG</th>\n",
       "      <th>Date</th>\n",
       "      <th>Distance</th>\n",
       "      <th>...</th>\n",
       "      <th>Bathroom</th>\n",
       "      <th>Car</th>\n",
       "      <th>Landsize</th>\n",
       "      <th>BuildingArea</th>\n",
       "      <th>YearBuilt</th>\n",
       "      <th>CouncilArea</th>\n",
       "      <th>Lattitude</th>\n",
       "      <th>Longtitude</th>\n",
       "      <th>Regionname</th>\n",
       "      <th>Propertycount</th>\n",
       "    </tr>\n",
       "  </thead>\n",
       "  <tbody>\n",
       "    <tr>\n",
       "      <th>0</th>\n",
       "      <td>1</td>\n",
       "      <td>Abbotsford</td>\n",
       "      <td>85 Turner St</td>\n",
       "      <td>2</td>\n",
       "      <td>h</td>\n",
       "      <td>1480000.0</td>\n",
       "      <td>S</td>\n",
       "      <td>Biggin</td>\n",
       "      <td>3/12/2016</td>\n",
       "      <td>2.5</td>\n",
       "      <td>...</td>\n",
       "      <td>1.0</td>\n",
       "      <td>1.0</td>\n",
       "      <td>202.0</td>\n",
       "      <td>NaN</td>\n",
       "      <td>NaN</td>\n",
       "      <td>Yarra</td>\n",
       "      <td>-37.79960</td>\n",
       "      <td>144.99840</td>\n",
       "      <td>Northern Metropolitan</td>\n",
       "      <td>4019.0</td>\n",
       "    </tr>\n",
       "    <tr>\n",
       "      <th>1</th>\n",
       "      <td>2</td>\n",
       "      <td>Abbotsford</td>\n",
       "      <td>25 Bloomburg St</td>\n",
       "      <td>2</td>\n",
       "      <td>h</td>\n",
       "      <td>1035000.0</td>\n",
       "      <td>S</td>\n",
       "      <td>Biggin</td>\n",
       "      <td>4/02/2016</td>\n",
       "      <td>2.5</td>\n",
       "      <td>...</td>\n",
       "      <td>1.0</td>\n",
       "      <td>0.0</td>\n",
       "      <td>156.0</td>\n",
       "      <td>79.0</td>\n",
       "      <td>1900.0</td>\n",
       "      <td>Yarra</td>\n",
       "      <td>-37.80790</td>\n",
       "      <td>144.99340</td>\n",
       "      <td>Northern Metropolitan</td>\n",
       "      <td>4019.0</td>\n",
       "    </tr>\n",
       "    <tr>\n",
       "      <th>2</th>\n",
       "      <td>4</td>\n",
       "      <td>Abbotsford</td>\n",
       "      <td>5 Charles St</td>\n",
       "      <td>3</td>\n",
       "      <td>h</td>\n",
       "      <td>1465000.0</td>\n",
       "      <td>SP</td>\n",
       "      <td>Biggin</td>\n",
       "      <td>4/03/2017</td>\n",
       "      <td>2.5</td>\n",
       "      <td>...</td>\n",
       "      <td>2.0</td>\n",
       "      <td>0.0</td>\n",
       "      <td>134.0</td>\n",
       "      <td>150.0</td>\n",
       "      <td>1900.0</td>\n",
       "      <td>Yarra</td>\n",
       "      <td>-37.80930</td>\n",
       "      <td>144.99440</td>\n",
       "      <td>Northern Metropolitan</td>\n",
       "      <td>4019.0</td>\n",
       "    </tr>\n",
       "    <tr>\n",
       "      <th>3</th>\n",
       "      <td>5</td>\n",
       "      <td>Abbotsford</td>\n",
       "      <td>40 Federation La</td>\n",
       "      <td>3</td>\n",
       "      <td>h</td>\n",
       "      <td>850000.0</td>\n",
       "      <td>PI</td>\n",
       "      <td>Biggin</td>\n",
       "      <td>4/03/2017</td>\n",
       "      <td>2.5</td>\n",
       "      <td>...</td>\n",
       "      <td>2.0</td>\n",
       "      <td>1.0</td>\n",
       "      <td>94.0</td>\n",
       "      <td>NaN</td>\n",
       "      <td>NaN</td>\n",
       "      <td>Yarra</td>\n",
       "      <td>-37.79690</td>\n",
       "      <td>144.99690</td>\n",
       "      <td>Northern Metropolitan</td>\n",
       "      <td>4019.0</td>\n",
       "    </tr>\n",
       "    <tr>\n",
       "      <th>4</th>\n",
       "      <td>6</td>\n",
       "      <td>Abbotsford</td>\n",
       "      <td>55a Park St</td>\n",
       "      <td>4</td>\n",
       "      <td>h</td>\n",
       "      <td>1600000.0</td>\n",
       "      <td>VB</td>\n",
       "      <td>Nelson</td>\n",
       "      <td>4/06/2016</td>\n",
       "      <td>2.5</td>\n",
       "      <td>...</td>\n",
       "      <td>1.0</td>\n",
       "      <td>2.0</td>\n",
       "      <td>120.0</td>\n",
       "      <td>142.0</td>\n",
       "      <td>2014.0</td>\n",
       "      <td>Yarra</td>\n",
       "      <td>-37.80720</td>\n",
       "      <td>144.99410</td>\n",
       "      <td>Northern Metropolitan</td>\n",
       "      <td>4019.0</td>\n",
       "    </tr>\n",
       "    <tr>\n",
       "      <th>...</th>\n",
       "      <td>...</td>\n",
       "      <td>...</td>\n",
       "      <td>...</td>\n",
       "      <td>...</td>\n",
       "      <td>...</td>\n",
       "      <td>...</td>\n",
       "      <td>...</td>\n",
       "      <td>...</td>\n",
       "      <td>...</td>\n",
       "      <td>...</td>\n",
       "      <td>...</td>\n",
       "      <td>...</td>\n",
       "      <td>...</td>\n",
       "      <td>...</td>\n",
       "      <td>...</td>\n",
       "      <td>...</td>\n",
       "      <td>...</td>\n",
       "      <td>...</td>\n",
       "      <td>...</td>\n",
       "      <td>...</td>\n",
       "      <td>...</td>\n",
       "    </tr>\n",
       "    <tr>\n",
       "      <th>18391</th>\n",
       "      <td>23540</td>\n",
       "      <td>Williamstown</td>\n",
       "      <td>8/2 Thompson St</td>\n",
       "      <td>2</td>\n",
       "      <td>t</td>\n",
       "      <td>622500.0</td>\n",
       "      <td>SP</td>\n",
       "      <td>Greg</td>\n",
       "      <td>26/08/2017</td>\n",
       "      <td>6.8</td>\n",
       "      <td>...</td>\n",
       "      <td>2.0</td>\n",
       "      <td>1.0</td>\n",
       "      <td>NaN</td>\n",
       "      <td>89.0</td>\n",
       "      <td>2010.0</td>\n",
       "      <td>NaN</td>\n",
       "      <td>-37.86393</td>\n",
       "      <td>144.90484</td>\n",
       "      <td>Western Metropolitan</td>\n",
       "      <td>6380.0</td>\n",
       "    </tr>\n",
       "    <tr>\n",
       "      <th>18392</th>\n",
       "      <td>23541</td>\n",
       "      <td>Williamstown</td>\n",
       "      <td>96 Verdon St</td>\n",
       "      <td>4</td>\n",
       "      <td>h</td>\n",
       "      <td>2500000.0</td>\n",
       "      <td>PI</td>\n",
       "      <td>Sweeney</td>\n",
       "      <td>26/08/2017</td>\n",
       "      <td>6.8</td>\n",
       "      <td>...</td>\n",
       "      <td>1.0</td>\n",
       "      <td>5.0</td>\n",
       "      <td>866.0</td>\n",
       "      <td>157.0</td>\n",
       "      <td>1920.0</td>\n",
       "      <td>NaN</td>\n",
       "      <td>-37.85908</td>\n",
       "      <td>144.89299</td>\n",
       "      <td>Western Metropolitan</td>\n",
       "      <td>6380.0</td>\n",
       "    </tr>\n",
       "    <tr>\n",
       "      <th>18393</th>\n",
       "      <td>23544</td>\n",
       "      <td>Yallambie</td>\n",
       "      <td>17 Amaroo Wy</td>\n",
       "      <td>4</td>\n",
       "      <td>h</td>\n",
       "      <td>1100000.0</td>\n",
       "      <td>S</td>\n",
       "      <td>Buckingham</td>\n",
       "      <td>26/08/2017</td>\n",
       "      <td>12.7</td>\n",
       "      <td>...</td>\n",
       "      <td>3.0</td>\n",
       "      <td>2.0</td>\n",
       "      <td>NaN</td>\n",
       "      <td>NaN</td>\n",
       "      <td>NaN</td>\n",
       "      <td>NaN</td>\n",
       "      <td>-37.72006</td>\n",
       "      <td>145.10547</td>\n",
       "      <td>Northern Metropolitan</td>\n",
       "      <td>1369.0</td>\n",
       "    </tr>\n",
       "    <tr>\n",
       "      <th>18394</th>\n",
       "      <td>23545</td>\n",
       "      <td>Yarraville</td>\n",
       "      <td>6 Agnes St</td>\n",
       "      <td>4</td>\n",
       "      <td>h</td>\n",
       "      <td>1285000.0</td>\n",
       "      <td>SP</td>\n",
       "      <td>Village</td>\n",
       "      <td>26/08/2017</td>\n",
       "      <td>6.3</td>\n",
       "      <td>...</td>\n",
       "      <td>1.0</td>\n",
       "      <td>1.0</td>\n",
       "      <td>362.0</td>\n",
       "      <td>112.0</td>\n",
       "      <td>1920.0</td>\n",
       "      <td>NaN</td>\n",
       "      <td>-37.81188</td>\n",
       "      <td>144.88449</td>\n",
       "      <td>Western Metropolitan</td>\n",
       "      <td>6543.0</td>\n",
       "    </tr>\n",
       "    <tr>\n",
       "      <th>18395</th>\n",
       "      <td>23546</td>\n",
       "      <td>Yarraville</td>\n",
       "      <td>33 Freeman St</td>\n",
       "      <td>4</td>\n",
       "      <td>h</td>\n",
       "      <td>1050000.0</td>\n",
       "      <td>VB</td>\n",
       "      <td>Village</td>\n",
       "      <td>26/08/2017</td>\n",
       "      <td>6.3</td>\n",
       "      <td>...</td>\n",
       "      <td>2.0</td>\n",
       "      <td>2.0</td>\n",
       "      <td>NaN</td>\n",
       "      <td>139.0</td>\n",
       "      <td>1950.0</td>\n",
       "      <td>NaN</td>\n",
       "      <td>-37.81829</td>\n",
       "      <td>144.87404</td>\n",
       "      <td>Western Metropolitan</td>\n",
       "      <td>6543.0</td>\n",
       "    </tr>\n",
       "  </tbody>\n",
       "</table>\n",
       "<p>18396 rows × 22 columns</p>\n",
       "</div>"
      ],
      "text/plain": [
       "       Unnamed: 0        Suburb           Address  Rooms Type      Price  \\\n",
       "0               1    Abbotsford      85 Turner St      2    h  1480000.0   \n",
       "1               2    Abbotsford   25 Bloomburg St      2    h  1035000.0   \n",
       "2               4    Abbotsford      5 Charles St      3    h  1465000.0   \n",
       "3               5    Abbotsford  40 Federation La      3    h   850000.0   \n",
       "4               6    Abbotsford       55a Park St      4    h  1600000.0   \n",
       "...           ...           ...               ...    ...  ...        ...   \n",
       "18391       23540  Williamstown   8/2 Thompson St      2    t   622500.0   \n",
       "18392       23541  Williamstown      96 Verdon St      4    h  2500000.0   \n",
       "18393       23544     Yallambie      17 Amaroo Wy      4    h  1100000.0   \n",
       "18394       23545    Yarraville        6 Agnes St      4    h  1285000.0   \n",
       "18395       23546    Yarraville     33 Freeman St      4    h  1050000.0   \n",
       "\n",
       "      Method     SellerG        Date  Distance  ...  Bathroom  Car  Landsize  \\\n",
       "0          S      Biggin   3/12/2016       2.5  ...       1.0  1.0     202.0   \n",
       "1          S      Biggin   4/02/2016       2.5  ...       1.0  0.0     156.0   \n",
       "2         SP      Biggin   4/03/2017       2.5  ...       2.0  0.0     134.0   \n",
       "3         PI      Biggin   4/03/2017       2.5  ...       2.0  1.0      94.0   \n",
       "4         VB      Nelson   4/06/2016       2.5  ...       1.0  2.0     120.0   \n",
       "...      ...         ...         ...       ...  ...       ...  ...       ...   \n",
       "18391     SP        Greg  26/08/2017       6.8  ...       2.0  1.0       NaN   \n",
       "18392     PI     Sweeney  26/08/2017       6.8  ...       1.0  5.0     866.0   \n",
       "18393      S  Buckingham  26/08/2017      12.7  ...       3.0  2.0       NaN   \n",
       "18394     SP     Village  26/08/2017       6.3  ...       1.0  1.0     362.0   \n",
       "18395     VB     Village  26/08/2017       6.3  ...       2.0  2.0       NaN   \n",
       "\n",
       "       BuildingArea  YearBuilt  CouncilArea  Lattitude Longtitude  \\\n",
       "0               NaN        NaN        Yarra  -37.79960  144.99840   \n",
       "1              79.0     1900.0        Yarra  -37.80790  144.99340   \n",
       "2             150.0     1900.0        Yarra  -37.80930  144.99440   \n",
       "3               NaN        NaN        Yarra  -37.79690  144.99690   \n",
       "4             142.0     2014.0        Yarra  -37.80720  144.99410   \n",
       "...             ...        ...          ...        ...        ...   \n",
       "18391          89.0     2010.0          NaN  -37.86393  144.90484   \n",
       "18392         157.0     1920.0          NaN  -37.85908  144.89299   \n",
       "18393           NaN        NaN          NaN  -37.72006  145.10547   \n",
       "18394         112.0     1920.0          NaN  -37.81188  144.88449   \n",
       "18395         139.0     1950.0          NaN  -37.81829  144.87404   \n",
       "\n",
       "                  Regionname  Propertycount  \n",
       "0      Northern Metropolitan         4019.0  \n",
       "1      Northern Metropolitan         4019.0  \n",
       "2      Northern Metropolitan         4019.0  \n",
       "3      Northern Metropolitan         4019.0  \n",
       "4      Northern Metropolitan         4019.0  \n",
       "...                      ...            ...  \n",
       "18391   Western Metropolitan         6380.0  \n",
       "18392   Western Metropolitan         6380.0  \n",
       "18393  Northern Metropolitan         1369.0  \n",
       "18394   Western Metropolitan         6543.0  \n",
       "18395   Western Metropolitan         6543.0  \n",
       "\n",
       "[18396 rows x 22 columns]"
      ]
     },
     "metadata": {},
     "output_type": "display_data"
    }
   ],
   "source": [
    "data = pd.read_csv('https://raw.githubusercontent.com/esabunor/MLWorkspace/master/melb_data.csv')\n",
    "display(data)"
   ]
  },
  {
   "cell_type": "markdown",
   "metadata": {
    "id": "5VgSzRDqdrvR"
   },
   "source": [
    "##Запись и чтение в других форматах##"
   ]
  },
  {
   "cell_type": "markdown",
   "metadata": {
    "id": "aHVNg4FEd135"
   },
   "source": [
    "![2025-07-07_18-17-48.png](data:image/png;base64,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)"
   ]
  },
  {
   "cell_type": "code",
   "execution_count": 23,
   "metadata": {
    "executionInfo": {
     "elapsed": 59,
     "status": "ok",
     "timestamp": 1751915498669,
     "user": {
      "displayName": "Алексей Косухин",
      "userId": "02447672224037510931"
     },
     "user_tz": -180
    },
    "id": "1fayBHLEdSrD"
   },
   "outputs": [],
   "source": [
    "melb_data = pd.read_csv(r'C:\\Users\\user\\Desktop\\Skilfactory\\data\\melb_data.csv', sep=',')"
   ]
  },
  {
   "cell_type": "code",
   "execution_count": 24,
   "metadata": {
    "colab": {
     "base_uri": "https://localhost:8080/",
     "height": 669
    },
    "executionInfo": {
     "elapsed": 47,
     "status": "ok",
     "timestamp": 1751915501014,
     "user": {
      "displayName": "Алексей Косухин",
      "userId": "02447672224037510931"
     },
     "user_tz": -180
    },
    "id": "g3IRT0yIfCnm",
    "outputId": "cd2f4b12-d7a0-4f56-80ad-559d2bd25f5d"
   },
   "outputs": [
    {
     "data": {
      "text/html": [
       "<div>\n",
       "<style scoped>\n",
       "    .dataframe tbody tr th:only-of-type {\n",
       "        vertical-align: middle;\n",
       "    }\n",
       "\n",
       "    .dataframe tbody tr th {\n",
       "        vertical-align: top;\n",
       "    }\n",
       "\n",
       "    .dataframe thead th {\n",
       "        text-align: right;\n",
       "    }\n",
       "</style>\n",
       "<table border=\"1\" class=\"dataframe\">\n",
       "  <thead>\n",
       "    <tr style=\"text-align: right;\">\n",
       "      <th></th>\n",
       "      <th>index</th>\n",
       "      <th>Suburb</th>\n",
       "      <th>Address</th>\n",
       "      <th>Rooms</th>\n",
       "      <th>Type</th>\n",
       "      <th>Price</th>\n",
       "      <th>Method</th>\n",
       "      <th>SellerG</th>\n",
       "      <th>Date</th>\n",
       "      <th>Distance</th>\n",
       "      <th>...</th>\n",
       "      <th>Car</th>\n",
       "      <th>Landsize</th>\n",
       "      <th>BuildingArea</th>\n",
       "      <th>YearBuilt</th>\n",
       "      <th>CouncilArea</th>\n",
       "      <th>Lattitude</th>\n",
       "      <th>Longtitude</th>\n",
       "      <th>Regionname</th>\n",
       "      <th>Propertycount</th>\n",
       "      <th>Coordinates</th>\n",
       "    </tr>\n",
       "  </thead>\n",
       "  <tbody>\n",
       "    <tr>\n",
       "      <th>0</th>\n",
       "      <td>0</td>\n",
       "      <td>Abbotsford</td>\n",
       "      <td>85 Turner St</td>\n",
       "      <td>2</td>\n",
       "      <td>h</td>\n",
       "      <td>1480000.0</td>\n",
       "      <td>S</td>\n",
       "      <td>Biggin</td>\n",
       "      <td>3/12/2016</td>\n",
       "      <td>2.5</td>\n",
       "      <td>...</td>\n",
       "      <td>1.0</td>\n",
       "      <td>202.0</td>\n",
       "      <td>126.0</td>\n",
       "      <td>1970.0</td>\n",
       "      <td>Yarra</td>\n",
       "      <td>-37.79960</td>\n",
       "      <td>144.99840</td>\n",
       "      <td>Northern Metropolitan</td>\n",
       "      <td>4019.0</td>\n",
       "      <td>-37.7996, 144.9984</td>\n",
       "    </tr>\n",
       "    <tr>\n",
       "      <th>1</th>\n",
       "      <td>1</td>\n",
       "      <td>Abbotsford</td>\n",
       "      <td>25 Bloomburg St</td>\n",
       "      <td>2</td>\n",
       "      <td>h</td>\n",
       "      <td>1035000.0</td>\n",
       "      <td>S</td>\n",
       "      <td>Biggin</td>\n",
       "      <td>4/02/2016</td>\n",
       "      <td>2.5</td>\n",
       "      <td>...</td>\n",
       "      <td>0.0</td>\n",
       "      <td>156.0</td>\n",
       "      <td>79.0</td>\n",
       "      <td>1900.0</td>\n",
       "      <td>Yarra</td>\n",
       "      <td>-37.80790</td>\n",
       "      <td>144.99340</td>\n",
       "      <td>Northern Metropolitan</td>\n",
       "      <td>4019.0</td>\n",
       "      <td>-37.8079, 144.9934</td>\n",
       "    </tr>\n",
       "    <tr>\n",
       "      <th>2</th>\n",
       "      <td>2</td>\n",
       "      <td>Abbotsford</td>\n",
       "      <td>5 Charles St</td>\n",
       "      <td>3</td>\n",
       "      <td>h</td>\n",
       "      <td>1465000.0</td>\n",
       "      <td>SP</td>\n",
       "      <td>Biggin</td>\n",
       "      <td>4/03/2017</td>\n",
       "      <td>2.5</td>\n",
       "      <td>...</td>\n",
       "      <td>0.0</td>\n",
       "      <td>134.0</td>\n",
       "      <td>150.0</td>\n",
       "      <td>1900.0</td>\n",
       "      <td>Yarra</td>\n",
       "      <td>-37.80930</td>\n",
       "      <td>144.99440</td>\n",
       "      <td>Northern Metropolitan</td>\n",
       "      <td>4019.0</td>\n",
       "      <td>-37.8093, 144.9944</td>\n",
       "    </tr>\n",
       "    <tr>\n",
       "      <th>3</th>\n",
       "      <td>3</td>\n",
       "      <td>Abbotsford</td>\n",
       "      <td>40 Federation La</td>\n",
       "      <td>3</td>\n",
       "      <td>h</td>\n",
       "      <td>850000.0</td>\n",
       "      <td>PI</td>\n",
       "      <td>Biggin</td>\n",
       "      <td>4/03/2017</td>\n",
       "      <td>2.5</td>\n",
       "      <td>...</td>\n",
       "      <td>1.0</td>\n",
       "      <td>94.0</td>\n",
       "      <td>126.0</td>\n",
       "      <td>1970.0</td>\n",
       "      <td>Yarra</td>\n",
       "      <td>-37.79690</td>\n",
       "      <td>144.99690</td>\n",
       "      <td>Northern Metropolitan</td>\n",
       "      <td>4019.0</td>\n",
       "      <td>-37.7969, 144.9969</td>\n",
       "    </tr>\n",
       "    <tr>\n",
       "      <th>4</th>\n",
       "      <td>4</td>\n",
       "      <td>Abbotsford</td>\n",
       "      <td>55a Park St</td>\n",
       "      <td>4</td>\n",
       "      <td>h</td>\n",
       "      <td>1600000.0</td>\n",
       "      <td>VB</td>\n",
       "      <td>Nelson</td>\n",
       "      <td>4/06/2016</td>\n",
       "      <td>2.5</td>\n",
       "      <td>...</td>\n",
       "      <td>2.0</td>\n",
       "      <td>120.0</td>\n",
       "      <td>142.0</td>\n",
       "      <td>2014.0</td>\n",
       "      <td>Yarra</td>\n",
       "      <td>-37.80720</td>\n",
       "      <td>144.99410</td>\n",
       "      <td>Northern Metropolitan</td>\n",
       "      <td>4019.0</td>\n",
       "      <td>-37.8072, 144.9941</td>\n",
       "    </tr>\n",
       "    <tr>\n",
       "      <th>...</th>\n",
       "      <td>...</td>\n",
       "      <td>...</td>\n",
       "      <td>...</td>\n",
       "      <td>...</td>\n",
       "      <td>...</td>\n",
       "      <td>...</td>\n",
       "      <td>...</td>\n",
       "      <td>...</td>\n",
       "      <td>...</td>\n",
       "      <td>...</td>\n",
       "      <td>...</td>\n",
       "      <td>...</td>\n",
       "      <td>...</td>\n",
       "      <td>...</td>\n",
       "      <td>...</td>\n",
       "      <td>...</td>\n",
       "      <td>...</td>\n",
       "      <td>...</td>\n",
       "      <td>...</td>\n",
       "      <td>...</td>\n",
       "      <td>...</td>\n",
       "    </tr>\n",
       "    <tr>\n",
       "      <th>13575</th>\n",
       "      <td>13575</td>\n",
       "      <td>Wheelers Hill</td>\n",
       "      <td>12 Strada Cr</td>\n",
       "      <td>4</td>\n",
       "      <td>h</td>\n",
       "      <td>1245000.0</td>\n",
       "      <td>S</td>\n",
       "      <td>Barry</td>\n",
       "      <td>26/08/2017</td>\n",
       "      <td>16.7</td>\n",
       "      <td>...</td>\n",
       "      <td>2.0</td>\n",
       "      <td>652.0</td>\n",
       "      <td>126.0</td>\n",
       "      <td>1981.0</td>\n",
       "      <td>NaN</td>\n",
       "      <td>-37.90562</td>\n",
       "      <td>145.16761</td>\n",
       "      <td>South-Eastern Metropolitan</td>\n",
       "      <td>7392.0</td>\n",
       "      <td>-37.90562, 145.16761</td>\n",
       "    </tr>\n",
       "    <tr>\n",
       "      <th>13576</th>\n",
       "      <td>13576</td>\n",
       "      <td>Williamstown</td>\n",
       "      <td>77 Merrett Dr</td>\n",
       "      <td>3</td>\n",
       "      <td>h</td>\n",
       "      <td>1031000.0</td>\n",
       "      <td>SP</td>\n",
       "      <td>Williams</td>\n",
       "      <td>26/08/2017</td>\n",
       "      <td>6.8</td>\n",
       "      <td>...</td>\n",
       "      <td>2.0</td>\n",
       "      <td>333.0</td>\n",
       "      <td>133.0</td>\n",
       "      <td>1995.0</td>\n",
       "      <td>NaN</td>\n",
       "      <td>-37.85927</td>\n",
       "      <td>144.87904</td>\n",
       "      <td>Western Metropolitan</td>\n",
       "      <td>6380.0</td>\n",
       "      <td>-37.85927, 144.87904</td>\n",
       "    </tr>\n",
       "    <tr>\n",
       "      <th>13577</th>\n",
       "      <td>13577</td>\n",
       "      <td>Williamstown</td>\n",
       "      <td>83 Power St</td>\n",
       "      <td>3</td>\n",
       "      <td>h</td>\n",
       "      <td>1170000.0</td>\n",
       "      <td>S</td>\n",
       "      <td>Raine</td>\n",
       "      <td>26/08/2017</td>\n",
       "      <td>6.8</td>\n",
       "      <td>...</td>\n",
       "      <td>4.0</td>\n",
       "      <td>436.0</td>\n",
       "      <td>126.0</td>\n",
       "      <td>1997.0</td>\n",
       "      <td>NaN</td>\n",
       "      <td>-37.85274</td>\n",
       "      <td>144.88738</td>\n",
       "      <td>Western Metropolitan</td>\n",
       "      <td>6380.0</td>\n",
       "      <td>-37.85274, 144.88738</td>\n",
       "    </tr>\n",
       "    <tr>\n",
       "      <th>13578</th>\n",
       "      <td>13578</td>\n",
       "      <td>Williamstown</td>\n",
       "      <td>96 Verdon St</td>\n",
       "      <td>4</td>\n",
       "      <td>h</td>\n",
       "      <td>2500000.0</td>\n",
       "      <td>PI</td>\n",
       "      <td>Sweeney</td>\n",
       "      <td>26/08/2017</td>\n",
       "      <td>6.8</td>\n",
       "      <td>...</td>\n",
       "      <td>5.0</td>\n",
       "      <td>866.0</td>\n",
       "      <td>157.0</td>\n",
       "      <td>1920.0</td>\n",
       "      <td>NaN</td>\n",
       "      <td>-37.85908</td>\n",
       "      <td>144.89299</td>\n",
       "      <td>Western Metropolitan</td>\n",
       "      <td>6380.0</td>\n",
       "      <td>-37.85908, 144.89299</td>\n",
       "    </tr>\n",
       "    <tr>\n",
       "      <th>13579</th>\n",
       "      <td>13579</td>\n",
       "      <td>Yarraville</td>\n",
       "      <td>6 Agnes St</td>\n",
       "      <td>4</td>\n",
       "      <td>h</td>\n",
       "      <td>1285000.0</td>\n",
       "      <td>SP</td>\n",
       "      <td>Village</td>\n",
       "      <td>26/08/2017</td>\n",
       "      <td>6.3</td>\n",
       "      <td>...</td>\n",
       "      <td>1.0</td>\n",
       "      <td>362.0</td>\n",
       "      <td>112.0</td>\n",
       "      <td>1920.0</td>\n",
       "      <td>NaN</td>\n",
       "      <td>-37.81188</td>\n",
       "      <td>144.88449</td>\n",
       "      <td>Western Metropolitan</td>\n",
       "      <td>6543.0</td>\n",
       "      <td>-37.81188, 144.88449</td>\n",
       "    </tr>\n",
       "  </tbody>\n",
       "</table>\n",
       "<p>13580 rows × 23 columns</p>\n",
       "</div>"
      ],
      "text/plain": [
       "       index         Suburb           Address  Rooms Type      Price Method  \\\n",
       "0          0     Abbotsford      85 Turner St      2    h  1480000.0      S   \n",
       "1          1     Abbotsford   25 Bloomburg St      2    h  1035000.0      S   \n",
       "2          2     Abbotsford      5 Charles St      3    h  1465000.0     SP   \n",
       "3          3     Abbotsford  40 Federation La      3    h   850000.0     PI   \n",
       "4          4     Abbotsford       55a Park St      4    h  1600000.0     VB   \n",
       "...      ...            ...               ...    ...  ...        ...    ...   \n",
       "13575  13575  Wheelers Hill      12 Strada Cr      4    h  1245000.0      S   \n",
       "13576  13576   Williamstown     77 Merrett Dr      3    h  1031000.0     SP   \n",
       "13577  13577   Williamstown       83 Power St      3    h  1170000.0      S   \n",
       "13578  13578   Williamstown      96 Verdon St      4    h  2500000.0     PI   \n",
       "13579  13579     Yarraville        6 Agnes St      4    h  1285000.0     SP   \n",
       "\n",
       "        SellerG        Date  Distance  ...  Car  Landsize  BuildingArea  \\\n",
       "0        Biggin   3/12/2016       2.5  ...  1.0     202.0         126.0   \n",
       "1        Biggin   4/02/2016       2.5  ...  0.0     156.0          79.0   \n",
       "2        Biggin   4/03/2017       2.5  ...  0.0     134.0         150.0   \n",
       "3        Biggin   4/03/2017       2.5  ...  1.0      94.0         126.0   \n",
       "4        Nelson   4/06/2016       2.5  ...  2.0     120.0         142.0   \n",
       "...         ...         ...       ...  ...  ...       ...           ...   \n",
       "13575     Barry  26/08/2017      16.7  ...  2.0     652.0         126.0   \n",
       "13576  Williams  26/08/2017       6.8  ...  2.0     333.0         133.0   \n",
       "13577     Raine  26/08/2017       6.8  ...  4.0     436.0         126.0   \n",
       "13578   Sweeney  26/08/2017       6.8  ...  5.0     866.0         157.0   \n",
       "13579   Village  26/08/2017       6.3  ...  1.0     362.0         112.0   \n",
       "\n",
       "       YearBuilt  CouncilArea  Lattitude  Longtitude  \\\n",
       "0         1970.0        Yarra  -37.79960   144.99840   \n",
       "1         1900.0        Yarra  -37.80790   144.99340   \n",
       "2         1900.0        Yarra  -37.80930   144.99440   \n",
       "3         1970.0        Yarra  -37.79690   144.99690   \n",
       "4         2014.0        Yarra  -37.80720   144.99410   \n",
       "...          ...          ...        ...         ...   \n",
       "13575     1981.0          NaN  -37.90562   145.16761   \n",
       "13576     1995.0          NaN  -37.85927   144.87904   \n",
       "13577     1997.0          NaN  -37.85274   144.88738   \n",
       "13578     1920.0          NaN  -37.85908   144.89299   \n",
       "13579     1920.0          NaN  -37.81188   144.88449   \n",
       "\n",
       "                       Regionname  Propertycount           Coordinates  \n",
       "0           Northern Metropolitan         4019.0    -37.7996, 144.9984  \n",
       "1           Northern Metropolitan         4019.0    -37.8079, 144.9934  \n",
       "2           Northern Metropolitan         4019.0    -37.8093, 144.9944  \n",
       "3           Northern Metropolitan         4019.0    -37.7969, 144.9969  \n",
       "4           Northern Metropolitan         4019.0    -37.8072, 144.9941  \n",
       "...                           ...            ...                   ...  \n",
       "13575  South-Eastern Metropolitan         7392.0  -37.90562, 145.16761  \n",
       "13576        Western Metropolitan         6380.0  -37.85927, 144.87904  \n",
       "13577        Western Metropolitan         6380.0  -37.85274, 144.88738  \n",
       "13578        Western Metropolitan         6380.0  -37.85908, 144.89299  \n",
       "13579        Western Metropolitan         6543.0  -37.81188, 144.88449  \n",
       "\n",
       "[13580 rows x 23 columns]"
      ]
     },
     "execution_count": 24,
     "metadata": {},
     "output_type": "execute_result"
    }
   ],
   "source": [
    "melb_data"
   ]
  },
  {
   "cell_type": "code",
   "execution_count": 25,
   "metadata": {
    "colab": {
     "base_uri": "https://localhost:8080/"
    },
    "executionInfo": {
     "elapsed": 6,
     "status": "ok",
     "timestamp": 1751915766990,
     "user": {
      "displayName": "Алексей Косухин",
      "userId": "02447672224037510931"
     },
     "user_tz": -180
    },
    "id": "RTFhMD0AfEOk",
    "outputId": "90beb863-ded9-407c-a248-aca424be9512"
   },
   "outputs": [
    {
     "data": {
      "text/plain": [
       "1310000.0"
      ]
     },
     "execution_count": 25,
     "metadata": {},
     "output_type": "execute_result"
    }
   ],
   "source": [
    "melb_data.loc[15, 'Price']"
   ]
  },
  {
   "cell_type": "code",
   "execution_count": 26,
   "metadata": {
    "colab": {
     "base_uri": "https://localhost:8080/",
     "height": 36
    },
    "executionInfo": {
     "elapsed": 13,
     "status": "ok",
     "timestamp": 1751915817298,
     "user": {
      "displayName": "Алексей Косухин",
      "userId": "02447672224037510931"
     },
     "user_tz": -180
    },
    "id": "e7AGSw11SURu",
    "outputId": "171bd92f-2f0b-46b1-b352-b0069580ef7f"
   },
   "outputs": [
    {
     "data": {
      "text/plain": [
       "'10/09/2016'"
      ]
     },
     "execution_count": 26,
     "metadata": {},
     "output_type": "execute_result"
    }
   ],
   "source": [
    "melb_data.loc[90, 'Date']"
   ]
  },
  {
   "cell_type": "code",
   "execution_count": 27,
   "metadata": {
    "colab": {
     "base_uri": "https://localhost:8080/"
    },
    "executionInfo": {
     "elapsed": 43,
     "status": "ok",
     "timestamp": 1751916021244,
     "user": {
      "displayName": "Алексей Косухин",
      "userId": "02447672224037510931"
     },
     "user_tz": -180
    },
    "id": "QBltUUIXUeeQ",
    "outputId": "567293e7-e036-4315-d4ca-195e75101afb"
   },
   "outputs": [
    {
     "data": {
      "text/plain": [
       "2.7857142857142856"
      ]
     },
     "execution_count": 27,
     "metadata": {},
     "output_type": "execute_result"
    }
   ],
   "source": [
    "melb_data.loc[3521, 'Landsize']/melb_data.loc[1690, 'Landsize']"
   ]
  },
  {
   "cell_type": "code",
   "execution_count": 28,
   "metadata": {
    "colab": {
     "base_uri": "https://localhost:8080/",
     "height": 300
    },
    "executionInfo": {
     "elapsed": 51,
     "status": "ok",
     "timestamp": 1751916250270,
     "user": {
      "displayName": "Алексей Косухин",
      "userId": "02447672224037510931"
     },
     "user_tz": -180
    },
    "id": "rm2uvHvkUuhx",
    "outputId": "163ee3c0-51af-4c95-ba24-5a71b7a8c300"
   },
   "outputs": [
    {
     "data": {
      "text/html": [
       "<div>\n",
       "<style scoped>\n",
       "    .dataframe tbody tr th:only-of-type {\n",
       "        vertical-align: middle;\n",
       "    }\n",
       "\n",
       "    .dataframe tbody tr th {\n",
       "        vertical-align: top;\n",
       "    }\n",
       "\n",
       "    .dataframe thead th {\n",
       "        text-align: right;\n",
       "    }\n",
       "</style>\n",
       "<table border=\"1\" class=\"dataframe\">\n",
       "  <thead>\n",
       "    <tr style=\"text-align: right;\">\n",
       "      <th></th>\n",
       "      <th>Distance</th>\n",
       "      <th>BuildingArea</th>\n",
       "      <th>Price</th>\n",
       "    </tr>\n",
       "  </thead>\n",
       "  <tbody>\n",
       "    <tr>\n",
       "      <th>count</th>\n",
       "      <td>13580.000000</td>\n",
       "      <td>13580.000000</td>\n",
       "      <td>1.358000e+04</td>\n",
       "    </tr>\n",
       "    <tr>\n",
       "      <th>mean</th>\n",
       "      <td>10.137776</td>\n",
       "      <td>139.633972</td>\n",
       "      <td>1.075684e+06</td>\n",
       "    </tr>\n",
       "    <tr>\n",
       "      <th>std</th>\n",
       "      <td>5.868725</td>\n",
       "      <td>392.217403</td>\n",
       "      <td>6.393107e+05</td>\n",
       "    </tr>\n",
       "    <tr>\n",
       "      <th>min</th>\n",
       "      <td>0.000000</td>\n",
       "      <td>0.000000</td>\n",
       "      <td>8.500000e+04</td>\n",
       "    </tr>\n",
       "    <tr>\n",
       "      <th>25%</th>\n",
       "      <td>6.100000</td>\n",
       "      <td>122.000000</td>\n",
       "      <td>6.500000e+05</td>\n",
       "    </tr>\n",
       "    <tr>\n",
       "      <th>50%</th>\n",
       "      <td>9.200000</td>\n",
       "      <td>126.000000</td>\n",
       "      <td>9.030000e+05</td>\n",
       "    </tr>\n",
       "    <tr>\n",
       "      <th>75%</th>\n",
       "      <td>13.000000</td>\n",
       "      <td>129.940000</td>\n",
       "      <td>1.330000e+06</td>\n",
       "    </tr>\n",
       "    <tr>\n",
       "      <th>max</th>\n",
       "      <td>48.100000</td>\n",
       "      <td>44515.000000</td>\n",
       "      <td>9.000000e+06</td>\n",
       "    </tr>\n",
       "  </tbody>\n",
       "</table>\n",
       "</div>"
      ],
      "text/plain": [
       "           Distance  BuildingArea         Price\n",
       "count  13580.000000  13580.000000  1.358000e+04\n",
       "mean      10.137776    139.633972  1.075684e+06\n",
       "std        5.868725    392.217403  6.393107e+05\n",
       "min        0.000000      0.000000  8.500000e+04\n",
       "25%        6.100000    122.000000  6.500000e+05\n",
       "50%        9.200000    126.000000  9.030000e+05\n",
       "75%       13.000000    129.940000  1.330000e+06\n",
       "max       48.100000  44515.000000  9.000000e+06"
      ]
     },
     "execution_count": 28,
     "metadata": {},
     "output_type": "execute_result"
    }
   ],
   "source": [
    "melb_data.describe().loc[:, ['Distance', 'BuildingArea' , 'Price']]"
   ]
  },
  {
   "cell_type": "code",
   "execution_count": 29,
   "metadata": {
    "colab": {
     "base_uri": "https://localhost:8080/",
     "height": 175
    },
    "executionInfo": {
     "elapsed": 346,
     "status": "ok",
     "timestamp": 1751917405777,
     "user": {
      "displayName": "Алексей Косухин",
      "userId": "02447672224037510931"
     },
     "user_tz": -180
    },
    "id": "Cr1x7utZahrI",
    "outputId": "cca6df6a-fe72-4f21-d4be-f25920ad688b"
   },
   "outputs": [
    {
     "data": {
      "text/html": [
       "<div>\n",
       "<style scoped>\n",
       "    .dataframe tbody tr th:only-of-type {\n",
       "        vertical-align: middle;\n",
       "    }\n",
       "\n",
       "    .dataframe tbody tr th {\n",
       "        vertical-align: top;\n",
       "    }\n",
       "\n",
       "    .dataframe thead th {\n",
       "        text-align: right;\n",
       "    }\n",
       "</style>\n",
       "<table border=\"1\" class=\"dataframe\">\n",
       "  <thead>\n",
       "    <tr style=\"text-align: right;\">\n",
       "      <th></th>\n",
       "      <th>Suburb</th>\n",
       "      <th>Address</th>\n",
       "      <th>Type</th>\n",
       "      <th>Method</th>\n",
       "      <th>SellerG</th>\n",
       "      <th>Date</th>\n",
       "      <th>CouncilArea</th>\n",
       "      <th>Regionname</th>\n",
       "      <th>Coordinates</th>\n",
       "    </tr>\n",
       "  </thead>\n",
       "  <tbody>\n",
       "    <tr>\n",
       "      <th>count</th>\n",
       "      <td>13580</td>\n",
       "      <td>13580</td>\n",
       "      <td>13580</td>\n",
       "      <td>13580</td>\n",
       "      <td>13580</td>\n",
       "      <td>13580</td>\n",
       "      <td>12211</td>\n",
       "      <td>13580</td>\n",
       "      <td>13580</td>\n",
       "    </tr>\n",
       "    <tr>\n",
       "      <th>unique</th>\n",
       "      <td>314</td>\n",
       "      <td>13378</td>\n",
       "      <td>3</td>\n",
       "      <td>5</td>\n",
       "      <td>268</td>\n",
       "      <td>58</td>\n",
       "      <td>33</td>\n",
       "      <td>8</td>\n",
       "      <td>13097</td>\n",
       "    </tr>\n",
       "    <tr>\n",
       "      <th>top</th>\n",
       "      <td>Reservoir</td>\n",
       "      <td>36 Aberfeldie St</td>\n",
       "      <td>h</td>\n",
       "      <td>S</td>\n",
       "      <td>Nelson</td>\n",
       "      <td>27/05/2017</td>\n",
       "      <td>Moreland</td>\n",
       "      <td>Southern Metropolitan</td>\n",
       "      <td>-37.8361, 144.9966</td>\n",
       "    </tr>\n",
       "    <tr>\n",
       "      <th>freq</th>\n",
       "      <td>359</td>\n",
       "      <td>3</td>\n",
       "      <td>9449</td>\n",
       "      <td>9022</td>\n",
       "      <td>1565</td>\n",
       "      <td>473</td>\n",
       "      <td>1163</td>\n",
       "      <td>4695</td>\n",
       "      <td>12</td>\n",
       "    </tr>\n",
       "  </tbody>\n",
       "</table>\n",
       "</div>"
      ],
      "text/plain": [
       "           Suburb           Address   Type Method SellerG        Date  \\\n",
       "count       13580             13580  13580  13580   13580       13580   \n",
       "unique        314             13378      3      5     268          58   \n",
       "top     Reservoir  36 Aberfeldie St      h      S  Nelson  27/05/2017   \n",
       "freq          359                 3   9449   9022    1565         473   \n",
       "\n",
       "       CouncilArea             Regionname         Coordinates  \n",
       "count        12211                  13580               13580  \n",
       "unique          33                      8               13097  \n",
       "top       Moreland  Southern Metropolitan  -37.8361, 144.9966  \n",
       "freq          1163                   4695                  12  "
      ]
     },
     "execution_count": 29,
     "metadata": {},
     "output_type": "execute_result"
    }
   ],
   "source": [
    "melb_data.describe(include=['object'])"
   ]
  },
  {
   "cell_type": "markdown",
   "metadata": {
    "id": "RToV8qFxbG4U"
   },
   "source": [
    "##Получение частоты уникальных значений в столбце##"
   ]
  },
  {
   "cell_type": "code",
   "execution_count": 30,
   "metadata": {
    "colab": {
     "base_uri": "https://localhost:8080/",
     "height": 366
    },
    "executionInfo": {
     "elapsed": 149,
     "status": "ok",
     "timestamp": 1751917582454,
     "user": {
      "displayName": "Алексей Косухин",
      "userId": "02447672224037510931"
     },
     "user_tz": -180
    },
    "id": "Q6J5I5xtbMtj",
    "outputId": "3abe3386-a931-407d-da14-7d034598bd35"
   },
   "outputs": [
    {
     "data": {
      "text/plain": [
       "Regionname\n",
       "Southern Metropolitan         4695\n",
       "Northern Metropolitan         3890\n",
       "Western Metropolitan          2948\n",
       "Eastern Metropolitan          1471\n",
       "South-Eastern Metropolitan     450\n",
       "Eastern Victoria                53\n",
       "Northern Victoria               41\n",
       "Western Victoria                32\n",
       "Name: count, dtype: int64"
      ]
     },
     "execution_count": 30,
     "metadata": {},
     "output_type": "execute_result"
    }
   ],
   "source": [
    "melb_data['Regionname'].value_counts()"
   ]
  },
  {
   "cell_type": "code",
   "execution_count": 31,
   "metadata": {
    "colab": {
     "base_uri": "https://localhost:8080/",
     "height": 366
    },
    "executionInfo": {
     "elapsed": 149,
     "status": "ok",
     "timestamp": 1751917641077,
     "user": {
      "displayName": "Алексей Косухин",
      "userId": "02447672224037510931"
     },
     "user_tz": -180
    },
    "id": "ewznNrePbUC1",
    "outputId": "9746fd5c-a4ed-4b05-ca07-683cacbc0858"
   },
   "outputs": [
    {
     "data": {
      "text/plain": [
       "Regionname\n",
       "Southern Metropolitan         0.345729\n",
       "Northern Metropolitan         0.286451\n",
       "Western Metropolitan          0.217084\n",
       "Eastern Metropolitan          0.108321\n",
       "South-Eastern Metropolitan    0.033137\n",
       "Eastern Victoria              0.003903\n",
       "Northern Victoria             0.003019\n",
       "Western Victoria              0.002356\n",
       "Name: proportion, dtype: float64"
      ]
     },
     "execution_count": 31,
     "metadata": {},
     "output_type": "execute_result"
    }
   ],
   "source": [
    "melb_data['Regionname'].value_counts(normalize=True)"
   ]
  },
  {
   "cell_type": "code",
   "execution_count": 32,
   "metadata": {
    "colab": {
     "base_uri": "https://localhost:8080/"
    },
    "executionInfo": {
     "elapsed": 24,
     "status": "ok",
     "timestamp": 1751917763921,
     "user": {
      "displayName": "Алексей Косухин",
      "userId": "02447672224037510931"
     },
     "user_tz": -180
    },
    "id": "1t08hNtlbbuI",
    "outputId": "d7c9f1a2-7ee3-48eb-ca9e-6c3903275ca4"
   },
   "outputs": [
    {
     "name": "stdout",
     "output_type": "stream",
     "text": [
      "<class 'pandas.core.frame.DataFrame'>\n",
      "RangeIndex: 13580 entries, 0 to 13579\n",
      "Data columns (total 23 columns):\n",
      " #   Column         Non-Null Count  Dtype  \n",
      "---  ------         --------------  -----  \n",
      " 0   index          13580 non-null  int64  \n",
      " 1   Suburb         13580 non-null  object \n",
      " 2   Address        13580 non-null  object \n",
      " 3   Rooms          13580 non-null  int64  \n",
      " 4   Type           13580 non-null  object \n",
      " 5   Price          13580 non-null  float64\n",
      " 6   Method         13580 non-null  object \n",
      " 7   SellerG        13580 non-null  object \n",
      " 8   Date           13580 non-null  object \n",
      " 9   Distance       13580 non-null  float64\n",
      " 10  Postcode       13580 non-null  int64  \n",
      " 11  Bedroom        13580 non-null  int64  \n",
      " 12  Bathroom       13580 non-null  int64  \n",
      " 13  Car            13580 non-null  int64  \n",
      " 14  Landsize       13580 non-null  float64\n",
      " 15  BuildingArea   13580 non-null  float64\n",
      " 16  YearBuilt      13580 non-null  int64  \n",
      " 17  CouncilArea    12211 non-null  object \n",
      " 18  Lattitude      13580 non-null  float64\n",
      " 19  Longtitude     13580 non-null  float64\n",
      " 20  Regionname     13580 non-null  object \n",
      " 21  Propertycount  13580 non-null  int64  \n",
      " 22  Coordinates    13580 non-null  object \n",
      "dtypes: float64(6), int64(8), object(9)\n",
      "memory usage: 2.4+ MB\n"
     ]
    }
   ],
   "source": [
    "melb_data['Car'] = melb_data['Car'].astype('int64')\n",
    "melb_data['Bedroom'] = melb_data['Bedroom'].astype('int64')\n",
    "melb_data['Bathroom'] = melb_data['Bathroom'].astype('int64')\n",
    "melb_data['Propertycount'] = melb_data['Propertycount'].astype('int64')\n",
    "melb_data['YearBuilt'] = melb_data['YearBuilt'].astype('int64')\n",
    "melb_data.info()"
   ]
  },
  {
   "cell_type": "code",
   "execution_count": 33,
   "metadata": {
    "colab": {
     "base_uri": "https://localhost:8080/",
     "height": 300
    },
    "executionInfo": {
     "elapsed": 82,
     "status": "ok",
     "timestamp": 1751918192341,
     "user": {
      "displayName": "Алексей Косухин",
      "userId": "02447672224037510931"
     },
     "user_tz": -180
    },
    "id": "MmWnqezgboVH",
    "outputId": "e7168215-7c5a-4034-d6c7-1d5f3a2a2696"
   },
   "outputs": [
    {
     "data": {
      "text/html": [
       "<div>\n",
       "<style scoped>\n",
       "    .dataframe tbody tr th:only-of-type {\n",
       "        vertical-align: middle;\n",
       "    }\n",
       "\n",
       "    .dataframe tbody tr th {\n",
       "        vertical-align: top;\n",
       "    }\n",
       "\n",
       "    .dataframe thead th {\n",
       "        text-align: right;\n",
       "    }\n",
       "</style>\n",
       "<table border=\"1\" class=\"dataframe\">\n",
       "  <thead>\n",
       "    <tr style=\"text-align: right;\">\n",
       "      <th></th>\n",
       "      <th>Price</th>\n",
       "      <th>Distance</th>\n",
       "      <th>BuildingArea</th>\n",
       "    </tr>\n",
       "  </thead>\n",
       "  <tbody>\n",
       "    <tr>\n",
       "      <th>count</th>\n",
       "      <td>1.358000e+04</td>\n",
       "      <td>13580.000000</td>\n",
       "      <td>13580.000000</td>\n",
       "    </tr>\n",
       "    <tr>\n",
       "      <th>mean</th>\n",
       "      <td>1.075684e+06</td>\n",
       "      <td>10.137776</td>\n",
       "      <td>139.633972</td>\n",
       "    </tr>\n",
       "    <tr>\n",
       "      <th>std</th>\n",
       "      <td>6.393107e+05</td>\n",
       "      <td>5.868725</td>\n",
       "      <td>392.217403</td>\n",
       "    </tr>\n",
       "    <tr>\n",
       "      <th>min</th>\n",
       "      <td>8.500000e+04</td>\n",
       "      <td>0.000000</td>\n",
       "      <td>0.000000</td>\n",
       "    </tr>\n",
       "    <tr>\n",
       "      <th>25%</th>\n",
       "      <td>6.500000e+05</td>\n",
       "      <td>6.100000</td>\n",
       "      <td>122.000000</td>\n",
       "    </tr>\n",
       "    <tr>\n",
       "      <th>50%</th>\n",
       "      <td>9.030000e+05</td>\n",
       "      <td>9.200000</td>\n",
       "      <td>126.000000</td>\n",
       "    </tr>\n",
       "    <tr>\n",
       "      <th>75%</th>\n",
       "      <td>1.330000e+06</td>\n",
       "      <td>13.000000</td>\n",
       "      <td>129.940000</td>\n",
       "    </tr>\n",
       "    <tr>\n",
       "      <th>max</th>\n",
       "      <td>9.000000e+06</td>\n",
       "      <td>48.100000</td>\n",
       "      <td>44515.000000</td>\n",
       "    </tr>\n",
       "  </tbody>\n",
       "</table>\n",
       "</div>"
      ],
      "text/plain": [
       "              Price      Distance  BuildingArea\n",
       "count  1.358000e+04  13580.000000  13580.000000\n",
       "mean   1.075684e+06     10.137776    139.633972\n",
       "std    6.393107e+05      5.868725    392.217403\n",
       "min    8.500000e+04      0.000000      0.000000\n",
       "25%    6.500000e+05      6.100000    122.000000\n",
       "50%    9.030000e+05      9.200000    126.000000\n",
       "75%    1.330000e+06     13.000000    129.940000\n",
       "max    9.000000e+06     48.100000  44515.000000"
      ]
     },
     "execution_count": 33,
     "metadata": {},
     "output_type": "execute_result"
    }
   ],
   "source": [
    "melb_data.describe().loc[:, ['Price', 'Distance', 'BuildingArea']]"
   ]
  },
  {
   "cell_type": "code",
   "execution_count": 34,
   "metadata": {
    "colab": {
     "base_uri": "https://localhost:8080/",
     "height": 366
    },
    "executionInfo": {
     "elapsed": 4,
     "status": "ok",
     "timestamp": 1751918102172,
     "user": {
      "displayName": "Алексей Косухин",
      "userId": "02447672224037510931"
     },
     "user_tz": -180
    },
    "id": "hm1r0QmmcyrO",
    "outputId": "866e95e0-3cbc-40f5-bb8d-49d787ef3c73"
   },
   "outputs": [
    {
     "data": {
      "text/plain": [
       "Regionname\n",
       "Southern Metropolitan         4695\n",
       "Northern Metropolitan         3890\n",
       "Western Metropolitan          2948\n",
       "Eastern Metropolitan          1471\n",
       "South-Eastern Metropolitan     450\n",
       "Eastern Victoria                53\n",
       "Northern Victoria               41\n",
       "Western Victoria                32\n",
       "Name: count, dtype: int64"
      ]
     },
     "execution_count": 34,
     "metadata": {},
     "output_type": "execute_result"
    }
   ],
   "source": [
    "melb_data['Regionname'].value_counts()"
   ]
  },
  {
   "cell_type": "code",
   "execution_count": 35,
   "metadata": {
    "colab": {
     "base_uri": "https://localhost:8080/",
     "height": 175
    },
    "executionInfo": {
     "elapsed": 113,
     "status": "ok",
     "timestamp": 1751918223285,
     "user": {
      "displayName": "Алексей Косухин",
      "userId": "02447672224037510931"
     },
     "user_tz": -180
    },
    "id": "hUs5mG_CdJA5",
    "outputId": "8b65aea6-150d-4e1b-c97d-7b8e5a1e4e63"
   },
   "outputs": [
    {
     "data": {
      "text/html": [
       "<div>\n",
       "<style scoped>\n",
       "    .dataframe tbody tr th:only-of-type {\n",
       "        vertical-align: middle;\n",
       "    }\n",
       "\n",
       "    .dataframe tbody tr th {\n",
       "        vertical-align: top;\n",
       "    }\n",
       "\n",
       "    .dataframe thead th {\n",
       "        text-align: right;\n",
       "    }\n",
       "</style>\n",
       "<table border=\"1\" class=\"dataframe\">\n",
       "  <thead>\n",
       "    <tr style=\"text-align: right;\">\n",
       "      <th></th>\n",
       "      <th>Suburb</th>\n",
       "      <th>Address</th>\n",
       "      <th>Type</th>\n",
       "      <th>Method</th>\n",
       "      <th>SellerG</th>\n",
       "      <th>Date</th>\n",
       "      <th>CouncilArea</th>\n",
       "      <th>Regionname</th>\n",
       "      <th>Coordinates</th>\n",
       "    </tr>\n",
       "  </thead>\n",
       "  <tbody>\n",
       "    <tr>\n",
       "      <th>count</th>\n",
       "      <td>13580</td>\n",
       "      <td>13580</td>\n",
       "      <td>13580</td>\n",
       "      <td>13580</td>\n",
       "      <td>13580</td>\n",
       "      <td>13580</td>\n",
       "      <td>12211</td>\n",
       "      <td>13580</td>\n",
       "      <td>13580</td>\n",
       "    </tr>\n",
       "    <tr>\n",
       "      <th>unique</th>\n",
       "      <td>314</td>\n",
       "      <td>13378</td>\n",
       "      <td>3</td>\n",
       "      <td>5</td>\n",
       "      <td>268</td>\n",
       "      <td>58</td>\n",
       "      <td>33</td>\n",
       "      <td>8</td>\n",
       "      <td>13097</td>\n",
       "    </tr>\n",
       "    <tr>\n",
       "      <th>top</th>\n",
       "      <td>Reservoir</td>\n",
       "      <td>36 Aberfeldie St</td>\n",
       "      <td>h</td>\n",
       "      <td>S</td>\n",
       "      <td>Nelson</td>\n",
       "      <td>27/05/2017</td>\n",
       "      <td>Moreland</td>\n",
       "      <td>Southern Metropolitan</td>\n",
       "      <td>-37.8361, 144.9966</td>\n",
       "    </tr>\n",
       "    <tr>\n",
       "      <th>freq</th>\n",
       "      <td>359</td>\n",
       "      <td>3</td>\n",
       "      <td>9449</td>\n",
       "      <td>9022</td>\n",
       "      <td>1565</td>\n",
       "      <td>473</td>\n",
       "      <td>1163</td>\n",
       "      <td>4695</td>\n",
       "      <td>12</td>\n",
       "    </tr>\n",
       "  </tbody>\n",
       "</table>\n",
       "</div>"
      ],
      "text/plain": [
       "           Suburb           Address   Type Method SellerG        Date  \\\n",
       "count       13580             13580  13580  13580   13580       13580   \n",
       "unique        314             13378      3      5     268          58   \n",
       "top     Reservoir  36 Aberfeldie St      h      S  Nelson  27/05/2017   \n",
       "freq          359                 3   9449   9022    1565         473   \n",
       "\n",
       "       CouncilArea             Regionname         Coordinates  \n",
       "count        12211                  13580               13580  \n",
       "unique          33                      8               13097  \n",
       "top       Moreland  Southern Metropolitan  -37.8361, 144.9966  \n",
       "freq          1163                   4695                  12  "
      ]
     },
     "execution_count": 35,
     "metadata": {},
     "output_type": "execute_result"
    }
   ],
   "source": [
    "melb_data.describe(include='object')"
   ]
  },
  {
   "cell_type": "code",
   "execution_count": 36,
   "metadata": {
    "colab": {
     "base_uri": "https://localhost:8080/",
     "height": 209
    },
    "executionInfo": {
     "elapsed": 7,
     "status": "ok",
     "timestamp": 1751918339653,
     "user": {
      "displayName": "Алексей Косухин",
      "userId": "02447672224037510931"
     },
     "user_tz": -180
    },
    "id": "cFqeliLjdonX",
    "outputId": "c576cd02-1ee2-4335-8110-ceed8e476dcd"
   },
   "outputs": [
    {
     "data": {
      "text/plain": [
       "Type\n",
       "h    9449\n",
       "u    3017\n",
       "t    1114\n",
       "Name: count, dtype: int64"
      ]
     },
     "execution_count": 36,
     "metadata": {},
     "output_type": "execute_result"
    }
   ],
   "source": [
    "melb_data['Type'].value_counts()"
   ]
  },
  {
   "cell_type": "code",
   "execution_count": 37,
   "metadata": {
    "colab": {
     "base_uri": "https://localhost:8080/"
    },
    "executionInfo": {
     "elapsed": 11,
     "status": "ok",
     "timestamp": 1751918371529,
     "user": {
      "displayName": "Алексей Косухин",
      "userId": "02447672224037510931"
     },
     "user_tz": -180
    },
    "id": "1bXDWQe4d_H8",
    "outputId": "803c28ab-2feb-4090-f3df-ba0ebceb9513"
   },
   "outputs": [
    {
     "data": {
      "text/plain": [
       "0.08203240058910162"
      ]
     },
     "execution_count": 37,
     "metadata": {},
     "output_type": "execute_result"
    }
   ],
   "source": [
    "1114/13580\n"
   ]
  },
  {
   "cell_type": "code",
   "execution_count": 38,
   "metadata": {
    "colab": {
     "base_uri": "https://localhost:8080/",
     "height": 115
    },
    "executionInfo": {
     "elapsed": 56,
     "status": "ok",
     "timestamp": 1751918538533,
     "user": {
      "displayName": "Алексей Косухин",
      "userId": "02447672224037510931"
     },
     "user_tz": -180
    },
    "id": "LQ-Nr7hseJ9_",
    "outputId": "d6d682c5-52c1-4dfd-961e-5ddf310f635c"
   },
   "outputs": [
    {
     "data": {
      "text/plain": [
       "0    Southern Metropolitan\n",
       "Name: Regionname, dtype: object"
      ]
     },
     "execution_count": 38,
     "metadata": {},
     "output_type": "execute_result"
    }
   ],
   "source": [
    "melb_data['Regionname'].mode()"
   ]
  },
  {
   "cell_type": "code",
   "execution_count": 39,
   "metadata": {
    "colab": {
     "base_uri": "https://localhost:8080/"
    },
    "executionInfo": {
     "elapsed": 7,
     "status": "ok",
     "timestamp": 1751918616086,
     "user": {
      "displayName": "Алексей Косухин",
      "userId": "02447672224037510931"
     },
     "user_tz": -180
    },
    "id": "Cr3H_yr_e22-",
    "outputId": "b9100f44-dd93-40ab-ac3d-05ccecd9c21d"
   },
   "outputs": [
    {
     "data": {
      "text/plain": [
       "21650"
      ]
     },
     "execution_count": 39,
     "metadata": {},
     "output_type": "execute_result"
    }
   ],
   "source": [
    "melb_data['Propertycount'].max()"
   ]
  },
  {
   "cell_type": "code",
   "execution_count": 40,
   "metadata": {
    "colab": {
     "base_uri": "https://localhost:8080/"
    },
    "executionInfo": {
     "elapsed": 10,
     "status": "ok",
     "timestamp": 1751918649667,
     "user": {
      "displayName": "Алексей Косухин",
      "userId": "02447672224037510931"
     },
     "user_tz": -180
    },
    "id": "9-hAYCpZfJzp",
    "outputId": "1a13d652-cb0d-4f44-f8a7-0ba76de45a0b"
   },
   "outputs": [
    {
     "data": {
      "text/plain": [
       "5.868724943071692"
      ]
     },
     "execution_count": 40,
     "metadata": {},
     "output_type": "execute_result"
    }
   ],
   "source": [
    "melb_data['Distance'].std()"
   ]
  },
  {
   "cell_type": "code",
   "execution_count": 41,
   "metadata": {
    "colab": {
     "base_uri": "https://localhost:8080/"
    },
    "executionInfo": {
     "elapsed": 7,
     "status": "ok",
     "timestamp": 1751918743777,
     "user": {
      "displayName": "Алексей Косухин",
      "userId": "02447672224037510931"
     },
     "user_tz": -180
    },
    "id": "37EGEyN7fQqZ",
    "outputId": "57fc1dca-b026-49e4-c7a6-ef6d20b811da"
   },
   "outputs": [
    {
     "name": "stdout",
     "output_type": "stream",
     "text": [
      "0.09764079662364533\n"
     ]
    }
   ],
   "source": [
    "s1 = melb_data['BuildingArea'].mean()\n",
    "s2 = melb_data['BuildingArea'].median()\n",
    "a = abs(s1-s2)/s1\n",
    "print(a)"
   ]
  },
  {
   "cell_type": "code",
   "execution_count": 42,
   "metadata": {
    "colab": {
     "base_uri": "https://localhost:8080/",
     "height": 115
    },
    "executionInfo": {
     "elapsed": 8,
     "status": "ok",
     "timestamp": 1751918775006,
     "user": {
      "displayName": "Алексей Косухин",
      "userId": "02447672224037510931"
     },
     "user_tz": -180
    },
    "id": "IdK6t7S0fnV0",
    "outputId": "5afce2f3-8aa0-444f-d776-ad6c38a87b35"
   },
   "outputs": [
    {
     "data": {
      "text/plain": [
       "0    3\n",
       "Name: Bedroom, dtype: int64"
      ]
     },
     "execution_count": 42,
     "metadata": {},
     "output_type": "execute_result"
    }
   ],
   "source": [
    "melb_data['Bedroom'].mode()"
   ]
  },
  {
   "cell_type": "code",
   "execution_count": 43,
   "metadata": {
    "colab": {
     "base_uri": "https://localhost:8080/"
    },
    "executionInfo": {
     "elapsed": 38,
     "status": "ok",
     "timestamp": 1751919056519,
     "user": {
      "displayName": "Алексей Косухин",
      "userId": "02447672224037510931"
     },
     "user_tz": -180
    },
    "id": "VC7PegXBfwmG",
    "outputId": "230f186a-ea8e-4479-a4c8-46763c40a572"
   },
   "outputs": [
    {
     "data": {
      "text/plain": [
       "(34, 23)"
      ]
     },
     "execution_count": 43,
     "metadata": {},
     "output_type": "execute_result"
    }
   ],
   "source": [
    "melb_data[melb_data['Bathroom'] == 0].shape"
   ]
  },
  {
   "cell_type": "code",
   "execution_count": 44,
   "metadata": {
    "colab": {
     "base_uri": "https://localhost:8080/"
    },
    "executionInfo": {
     "elapsed": 15,
     "status": "ok",
     "timestamp": 1751919186485,
     "user": {
      "displayName": "Алексей Косухин",
      "userId": "02447672224037510931"
     },
     "user_tz": -180
    },
    "id": "fE-0SFFOgwZr",
    "outputId": "13702931-5db1-41e2-d4fd-8cdaa4a20167"
   },
   "outputs": [
    {
     "data": {
      "text/plain": [
       "(5, 23)"
      ]
     },
     "execution_count": 44,
     "metadata": {},
     "output_type": "execute_result"
    }
   ],
   "source": [
    "melb_data[(melb_data['Price'] > 3_000_000) & (melb_data['SellerG'] == 'Nelson')].shape"
   ]
  },
  {
   "cell_type": "code",
   "execution_count": 45,
   "metadata": {
    "colab": {
     "base_uri": "https://localhost:8080/"
    },
    "executionInfo": {
     "elapsed": 8,
     "status": "ok",
     "timestamp": 1751919237414,
     "user": {
      "displayName": "Алексей Косухин",
      "userId": "02447672224037510931"
     },
     "user_tz": -180
    },
    "id": "qsGlrjAfhHdR",
    "outputId": "352652e6-76ed-4e5f-ffc7-6494d3672d7d"
   },
   "outputs": [
    {
     "data": {
      "text/plain": [
       "412500.0"
      ]
     },
     "execution_count": 45,
     "metadata": {},
     "output_type": "execute_result"
    }
   ],
   "source": [
    "melb_data[melb_data['BuildingArea'] == 0]['Price'].min()"
   ]
  },
  {
   "cell_type": "code",
   "execution_count": 46,
   "metadata": {
    "colab": {
     "base_uri": "https://localhost:8080/"
    },
    "executionInfo": {
     "elapsed": 41,
     "status": "ok",
     "timestamp": 1751919470888,
     "user": {
      "displayName": "Алексей Косухин",
      "userId": "02447672224037510931"
     },
     "user_tz": -180
    },
    "id": "XXImrrpShm24",
    "outputId": "6d0a0255-bd8f-4754-9c44-8fc50a4f8e8b"
   },
   "outputs": [
    {
     "data": {
      "text/plain": [
       "769238.6363636364"
      ]
     },
     "execution_count": 46,
     "metadata": {},
     "output_type": "execute_result"
    }
   ],
   "source": [
    "mask1 = melb_data['Price'] < 1_000_000\n",
    "mask2 = melb_data['Rooms'] > 5\n",
    "mask3 = melb_data['YearBuilt'] > 2015\n",
    "melb_data[(mask1) & (mask2 | mask3)]['Price'].mean()"
   ]
  },
  {
   "cell_type": "code",
   "execution_count": 47,
   "metadata": {
    "colab": {
     "base_uri": "https://localhost:8080/",
     "height": 366
    },
    "executionInfo": {
     "elapsed": 17,
     "status": "ok",
     "timestamp": 1751919602271,
     "user": {
      "displayName": "Алексей Косухин",
      "userId": "02447672224037510931"
     },
     "user_tz": -180
    },
    "id": "VJjg0-_Hh--B",
    "outputId": "aa9a3fc9-ebe1-43ae-d537-4eb87236d109"
   },
   "outputs": [
    {
     "data": {
      "text/plain": [
       "Regionname\n",
       "Northern Metropolitan         2737\n",
       "Southern Metropolitan         2520\n",
       "Western Metropolitan          2286\n",
       "Eastern Metropolitan          1167\n",
       "South-Eastern Metropolitan     387\n",
       "Eastern Victoria                50\n",
       "Northern Victoria               41\n",
       "Western Victoria                32\n",
       "Name: count, dtype: int64"
      ]
     },
     "execution_count": 47,
     "metadata": {},
     "output_type": "execute_result"
    }
   ],
   "source": [
    "melb_data[(melb_data['Type'] == 'h') & (melb_data['Price'] < 3_000_000)]['Regionname'].value_counts()"
   ]
  },
  {
   "cell_type": "code",
   "execution_count": null,
   "metadata": {
    "id": "7QYrUZrliCMt"
   },
   "outputs": [],
   "source": []
  }
 ],
 "metadata": {
  "colab": {
   "authorship_tag": "ABX9TyNb/4RtBl1gXYkl12mkctNT",
   "mount_file_id": "1Xdifat2SO4SRYKs5psDZ7kSXb2bPfMvA",
   "provenance": []
  },
  "kernelspec": {
   "display_name": "base",
   "language": "python",
   "name": "python3"
  },
  "language_info": {
   "codemirror_mode": {
    "name": "ipython",
    "version": 3
   },
   "file_extension": ".py",
   "mimetype": "text/x-python",
   "name": "python",
   "nbconvert_exporter": "python",
   "pygments_lexer": "ipython3",
   "version": "3.12.4"
  }
 },
 "nbformat": 4,
 "nbformat_minor": 0
}
