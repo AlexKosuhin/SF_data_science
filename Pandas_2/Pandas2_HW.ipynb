{
 "cells": [
  {
   "cell_type": "code",
   "execution_count": 5,
   "metadata": {
    "executionInfo": {
     "elapsed": 72,
     "status": "ok",
     "timestamp": 1751965417959,
     "user": {
      "displayName": "Алексей Косухин",
      "userId": "02447672224037510931"
     },
     "user_tz": -180
    },
    "id": "PdDosK-vP64J"
   },
   "outputs": [],
   "source": [
    "import pandas as pd"
   ]
  },
  {
   "cell_type": "code",
   "execution_count": 6,
   "metadata": {
    "executionInfo": {
     "elapsed": 1926,
     "status": "ok",
     "timestamp": 1751965440143,
     "user": {
      "displayName": "Алексей Косухин",
      "userId": "02447672224037510931"
     },
     "user_tz": -180
    },
    "id": "Dbc4yk9IQ9iA"
   },
   "outputs": [],
   "source": [
    "df = pd.read_csv(r'C:\\Users\\user\\Desktop\\Skilfactory\\data\\citibike-tripdata.csv')"
   ]
  },
  {
   "cell_type": "code",
   "execution_count": 7,
   "metadata": {
    "colab": {
     "base_uri": "https://localhost:8080/"
    },
    "executionInfo": {
     "elapsed": 89,
     "status": "ok",
     "timestamp": 1751965453623,
     "user": {
      "displayName": "Алексей Косухин",
      "userId": "02447672224037510931"
     },
     "user_tz": -180
    },
    "id": "xLHF5BmmRxBk",
    "outputId": "b34d3690-6ec0-4735-8410-f3c3004e787a"
   },
   "outputs": [
    {
     "name": "stdout",
     "output_type": "stream",
     "text": [
      "<class 'pandas.core.frame.DataFrame'>\n",
      "RangeIndex: 300000 entries, 0 to 299999\n",
      "Data columns (total 14 columns):\n",
      " #   Column                   Non-Null Count   Dtype  \n",
      "---  ------                   --------------   -----  \n",
      " 0   starttime                300000 non-null  object \n",
      " 1   stoptime                 300000 non-null  object \n",
      " 2   start station id         299831 non-null  float64\n",
      " 3   start station name       299831 non-null  object \n",
      " 4   start station latitude   300000 non-null  float64\n",
      " 5   start station longitude  300000 non-null  float64\n",
      " 6   end station id           299831 non-null  float64\n",
      " 7   end station name         299831 non-null  object \n",
      " 8   end station latitude     300000 non-null  float64\n",
      " 9   end station longitude    300000 non-null  float64\n",
      " 10  bikeid                   300000 non-null  int64  \n",
      " 11  usertype                 300000 non-null  object \n",
      " 12  birth year               300000 non-null  int64  \n",
      " 13  gender                   300000 non-null  int64  \n",
      "dtypes: float64(6), int64(3), object(5)\n",
      "memory usage: 32.0+ MB\n"
     ]
    }
   ],
   "source": [
    "df.info()"
   ]
  },
  {
   "cell_type": "code",
   "execution_count": 8,
   "metadata": {
    "id": "0lmVgEwLR0qR"
   },
   "outputs": [
    {
     "data": {
      "text/plain": [
       "start station id\n",
       "281.0     1928\n",
       "2006.0    1909\n",
       "519.0     1873\n",
       "514.0     1845\n",
       "426.0     1835\n",
       "          ... \n",
       "3432.0      15\n",
       "3599.0      11\n",
       "2005.0       9\n",
       "3704.0       7\n",
       "3583.0       6\n",
       "Name: count, Length: 759, dtype: int64"
      ]
     },
     "execution_count": 8,
     "metadata": {},
     "output_type": "execute_result"
    }
   ],
   "source": [
    "df['start station id'].value_counts()"
   ]
  },
  {
   "cell_type": "code",
   "execution_count": 9,
   "metadata": {
    "id": "6tYlrkcyR-c_"
   },
   "outputs": [
    {
     "data": {
      "text/plain": [
       "bikeid\n",
       "33887    107\n",
       "34358    104\n",
       "34159    103\n",
       "34258    103\n",
       "33916    102\n",
       "        ... \n",
       "18587      1\n",
       "17324      1\n",
       "29593      1\n",
       "33157      1\n",
       "25794      1\n",
       "Name: count, Length: 10004, dtype: int64"
      ]
     },
     "execution_count": 9,
     "metadata": {},
     "output_type": "execute_result"
    }
   ],
   "source": [
    "df['bikeid'].value_counts()"
   ]
  },
  {
   "cell_type": "code",
   "execution_count": 10,
   "metadata": {
    "executionInfo": {
     "elapsed": 3,
     "status": "ok",
     "timestamp": 1751965589999,
     "user": {
      "displayName": "Алексей Косухин",
      "userId": "02447672224037510931"
     },
     "user_tz": -180
    },
    "id": "X8VbIujGSD1R"
   },
   "outputs": [],
   "source": [
    "a, b = df['usertype'].value_counts()"
   ]
  },
  {
   "cell_type": "code",
   "execution_count": 11,
   "metadata": {
    "colab": {
     "base_uri": "https://localhost:8080/"
    },
    "executionInfo": {
     "elapsed": 9,
     "status": "ok",
     "timestamp": 1751965599503,
     "user": {
      "displayName": "Алексей Косухин",
      "userId": "02447672224037510931"
     },
     "user_tz": -180
    },
    "id": "bF0jKrP3SR4g",
    "outputId": "3f8a454f-4a86-406b-b4b1-d162dd08c320"
   },
   "outputs": [
    {
     "data": {
      "text/plain": [
       "0.7740066666666666"
      ]
     },
     "execution_count": 11,
     "metadata": {},
     "output_type": "execute_result"
    }
   ],
   "source": [
    "a/(a+b)"
   ]
  },
  {
   "cell_type": "code",
   "execution_count": 12,
   "metadata": {
    "colab": {
     "base_uri": "https://localhost:8080/",
     "height": 209
    },
    "executionInfo": {
     "elapsed": 61,
     "status": "ok",
     "timestamp": 1751965623763,
     "user": {
      "displayName": "Алексей Косухин",
      "userId": "02447672224037510931"
     },
     "user_tz": -180
    },
    "id": "HxGmjQb6SYY6",
    "outputId": "ec92baaf-c084-4d4c-a9e5-8908b420f7bf"
   },
   "outputs": [
    {
     "data": {
      "text/plain": [
       "gender\n",
       "1    183582\n",
       "2     74506\n",
       "0     41912\n",
       "Name: count, dtype: int64"
      ]
     },
     "execution_count": 12,
     "metadata": {},
     "output_type": "execute_result"
    }
   ],
   "source": [
    "df['gender'].value_counts()"
   ]
  },
  {
   "cell_type": "code",
   "execution_count": 13,
   "metadata": {
    "colab": {
     "base_uri": "https://localhost:8080/"
    },
    "executionInfo": {
     "elapsed": 5,
     "status": "ok",
     "timestamp": 1751965691060,
     "user": {
      "displayName": "Алексей Косухин",
      "userId": "02447672224037510931"
     },
     "user_tz": -180
    },
    "id": "Zzfh55UXSeT-",
    "outputId": "f25e5fcc-62ac-4344-d15c-2bfb6b20aa84"
   },
   "outputs": [
    {
     "data": {
      "text/plain": [
       "759"
      ]
     },
     "execution_count": 13,
     "metadata": {},
     "output_type": "execute_result"
    }
   ],
   "source": [
    "df['start station id'].nunique()"
   ]
  },
  {
   "cell_type": "code",
   "execution_count": 14,
   "metadata": {
    "colab": {
     "base_uri": "https://localhost:8080/"
    },
    "executionInfo": {
     "elapsed": 6,
     "status": "ok",
     "timestamp": 1751965713423,
     "user": {
      "displayName": "Алексей Косухин",
      "userId": "02447672224037510931"
     },
     "user_tz": -180
    },
    "id": "2ERf6vbKSuvq",
    "outputId": "e2791d8e-0448-4a85-ee1d-afd27b02d191"
   },
   "outputs": [
    {
     "data": {
      "text/plain": [
       "765"
      ]
     },
     "execution_count": 14,
     "metadata": {},
     "output_type": "execute_result"
    }
   ],
   "source": [
    "df['end station id'].nunique()"
   ]
  },
  {
   "cell_type": "code",
   "execution_count": 15,
   "metadata": {
    "colab": {
     "base_uri": "https://localhost:8080/"
    },
    "executionInfo": {
     "elapsed": 6,
     "status": "ok",
     "timestamp": 1751965769762,
     "user": {
      "displayName": "Алексей Косухин",
      "userId": "02447672224037510931"
     },
     "user_tz": -180
    },
    "id": "soOa8OQsSzKV",
    "outputId": "9e19c6be-dafb-4adf-9d90-ae29baa4daa1"
   },
   "outputs": [
    {
     "data": {
      "text/plain": [
       "2002"
      ]
     },
     "execution_count": 15,
     "metadata": {},
     "output_type": "execute_result"
    }
   ],
   "source": [
    "df['birth year'].max()"
   ]
  },
  {
   "cell_type": "code",
   "execution_count": 16,
   "metadata": {
    "id": "8nAyJlpDS8x6"
   },
   "outputs": [
    {
     "data": {
      "text/plain": [
       "start station name\n",
       "Eastern Pkwy & Washington Ave     6\n",
       "47 Ave & Skillman Ave             7\n",
       "Railroad Ave & Kay Ave            9\n",
       "Franklin Ave & Empire Blvd       11\n",
       "NYCBS Depot - GOW                15\n",
       "11 St & 35 Ave                   17\n",
       "Columbia St & Lorraine St        19\n",
       "Crown St & Bedford Ave           23\n",
       "27 Ave & 4 St                    26\n",
       "21 St & 38 Ave                   29\n",
       "Name: count, dtype: int64"
      ]
     },
     "execution_count": 16,
     "metadata": {},
     "output_type": "execute_result"
    }
   ],
   "source": [
    "df['start station name'].value_counts().nsmallest(10)"
   ]
  },
  {
   "cell_type": "code",
   "execution_count": 17,
   "metadata": {
    "id": "xGelFfOkTQ6t"
   },
   "outputs": [
    {
     "data": {
      "text/plain": [
       "end station name\n",
       "West St & Chambers St          1963\n",
       "12 Ave & W 40 St               1909\n",
       "Pershing Square North          1850\n",
       "Central Park S & 6 Ave         1828\n",
       "E 17 St & Broadway             1804\n",
       "                               ... \n",
       "Exchange Place                    3\n",
       "Union St                          1\n",
       "Warren St                         1\n",
       "Montrose Ave & Bushwick Ave       1\n",
       "Liberty Light Rail                1\n",
       "Name: count, Length: 765, dtype: int64"
      ]
     },
     "execution_count": 17,
     "metadata": {},
     "output_type": "execute_result"
    }
   ],
   "source": [
    "df['end station name'].value_counts()"
   ]
  },
  {
   "cell_type": "code",
   "execution_count": 18,
   "metadata": {
    "executionInfo": {
     "elapsed": 30,
     "status": "ok",
     "timestamp": 1751965954262,
     "user": {
      "displayName": "Алексей Косухин",
      "userId": "02447672224037510931"
     },
     "user_tz": -180
    },
    "id": "_1SCYXdqTbkl"
   },
   "outputs": [],
   "source": [
    "df.drop(['start station id', 'end station id'], axis=1, inplace=True)"
   ]
  },
  {
   "cell_type": "code",
   "execution_count": 19,
   "metadata": {
    "colab": {
     "base_uri": "https://localhost:8080/"
    },
    "executionInfo": {
     "elapsed": 5,
     "status": "ok",
     "timestamp": 1751965958851,
     "user": {
      "displayName": "Алексей Косухин",
      "userId": "02447672224037510931"
     },
     "user_tz": -180
    },
    "id": "QHecJKH2Trly",
    "outputId": "3fea9af0-0f9f-469b-9d47-369467ae8d9f"
   },
   "outputs": [
    {
     "name": "stdout",
     "output_type": "stream",
     "text": [
      "<class 'pandas.core.frame.DataFrame'>\n",
      "RangeIndex: 300000 entries, 0 to 299999\n",
      "Data columns (total 12 columns):\n",
      " #   Column                   Non-Null Count   Dtype  \n",
      "---  ------                   --------------   -----  \n",
      " 0   starttime                300000 non-null  object \n",
      " 1   stoptime                 300000 non-null  object \n",
      " 2   start station name       299831 non-null  object \n",
      " 3   start station latitude   300000 non-null  float64\n",
      " 4   start station longitude  300000 non-null  float64\n",
      " 5   end station name         299831 non-null  object \n",
      " 6   end station latitude     300000 non-null  float64\n",
      " 7   end station longitude    300000 non-null  float64\n",
      " 8   bikeid                   300000 non-null  int64  \n",
      " 9   usertype                 300000 non-null  object \n",
      " 10  birth year               300000 non-null  int64  \n",
      " 11  gender                   300000 non-null  int64  \n",
      "dtypes: float64(4), int64(3), object(5)\n",
      "memory usage: 27.5+ MB\n"
     ]
    }
   ],
   "source": [
    "df.info()"
   ]
  },
  {
   "cell_type": "code",
   "execution_count": 20,
   "metadata": {
    "executionInfo": {
     "elapsed": 23,
     "status": "ok",
     "timestamp": 1751966052511,
     "user": {
      "displayName": "Алексей Косухин",
      "userId": "02447672224037510931"
     },
     "user_tz": -180
    },
    "id": "T-jaCct_TwHU"
   },
   "outputs": [],
   "source": [
    "df['age'] = 2018 - df['birth year']\n",
    "df.drop('birth year', axis=1, inplace=True)"
   ]
  },
  {
   "cell_type": "code",
   "execution_count": 21,
   "metadata": {
    "colab": {
     "base_uri": "https://localhost:8080/",
     "height": 718
    },
    "executionInfo": {
     "elapsed": 21,
     "status": "ok",
     "timestamp": 1751966076901,
     "user": {
      "displayName": "Алексей Косухин",
      "userId": "02447672224037510931"
     },
     "user_tz": -180
    },
    "id": "k0zg2_zRT70n",
    "outputId": "ae4847a2-fee3-46dd-b486-106df9c9f8eb"
   },
   "outputs": [
    {
     "data": {
      "text/html": [
       "<div>\n",
       "<style scoped>\n",
       "    .dataframe tbody tr th:only-of-type {\n",
       "        vertical-align: middle;\n",
       "    }\n",
       "\n",
       "    .dataframe tbody tr th {\n",
       "        vertical-align: top;\n",
       "    }\n",
       "\n",
       "    .dataframe thead th {\n",
       "        text-align: right;\n",
       "    }\n",
       "</style>\n",
       "<table border=\"1\" class=\"dataframe\">\n",
       "  <thead>\n",
       "    <tr style=\"text-align: right;\">\n",
       "      <th></th>\n",
       "      <th>starttime</th>\n",
       "      <th>stoptime</th>\n",
       "      <th>start station name</th>\n",
       "      <th>start station latitude</th>\n",
       "      <th>start station longitude</th>\n",
       "      <th>end station name</th>\n",
       "      <th>end station latitude</th>\n",
       "      <th>end station longitude</th>\n",
       "      <th>bikeid</th>\n",
       "      <th>usertype</th>\n",
       "      <th>gender</th>\n",
       "      <th>age</th>\n",
       "    </tr>\n",
       "  </thead>\n",
       "  <tbody>\n",
       "    <tr>\n",
       "      <th>53</th>\n",
       "      <td>2018-09-01 00:04:20.9200</td>\n",
       "      <td>2018-09-01 00:11:21.6180</td>\n",
       "      <td>Grand Army Plaza &amp; Central Park S</td>\n",
       "      <td>40.764397</td>\n",
       "      <td>-73.973715</td>\n",
       "      <td>Broadway &amp; W 53 St</td>\n",
       "      <td>40.763441</td>\n",
       "      <td>-73.982681</td>\n",
       "      <td>24824</td>\n",
       "      <td>Subscriber</td>\n",
       "      <td>2</td>\n",
       "      <td>63</td>\n",
       "    </tr>\n",
       "    <tr>\n",
       "      <th>373</th>\n",
       "      <td>2018-09-01 00:25:47.6740</td>\n",
       "      <td>2018-09-01 00:39:31.7160</td>\n",
       "      <td>Mott St &amp; Prince St</td>\n",
       "      <td>40.723180</td>\n",
       "      <td>-73.994800</td>\n",
       "      <td>Mott St &amp; Prince St</td>\n",
       "      <td>40.723180</td>\n",
       "      <td>-73.994800</td>\n",
       "      <td>26083</td>\n",
       "      <td>Subscriber</td>\n",
       "      <td>2</td>\n",
       "      <td>68</td>\n",
       "    </tr>\n",
       "    <tr>\n",
       "      <th>405</th>\n",
       "      <td>2018-09-01 00:29:10.1630</td>\n",
       "      <td>2018-09-01 00:44:08.6110</td>\n",
       "      <td>Avenue D &amp; E 3 St</td>\n",
       "      <td>40.720828</td>\n",
       "      <td>-73.977932</td>\n",
       "      <td>Avenue D &amp; E 12 St</td>\n",
       "      <td>40.725806</td>\n",
       "      <td>-73.974225</td>\n",
       "      <td>33436</td>\n",
       "      <td>Subscriber</td>\n",
       "      <td>2</td>\n",
       "      <td>61</td>\n",
       "    </tr>\n",
       "    <tr>\n",
       "      <th>435</th>\n",
       "      <td>2018-09-01 00:31:21.7250</td>\n",
       "      <td>2018-09-01 00:41:57.9200</td>\n",
       "      <td>Broadway &amp; W 56 St</td>\n",
       "      <td>40.765265</td>\n",
       "      <td>-73.981923</td>\n",
       "      <td>W 37 St &amp; 10 Ave</td>\n",
       "      <td>40.756604</td>\n",
       "      <td>-73.997901</td>\n",
       "      <td>19894</td>\n",
       "      <td>Subscriber</td>\n",
       "      <td>2</td>\n",
       "      <td>63</td>\n",
       "    </tr>\n",
       "    <tr>\n",
       "      <th>457</th>\n",
       "      <td>2018-09-01 00:33:19.8080</td>\n",
       "      <td>2018-09-01 00:37:29.9270</td>\n",
       "      <td>Warren St &amp; Court St</td>\n",
       "      <td>40.686371</td>\n",
       "      <td>-73.993833</td>\n",
       "      <td>Bond St &amp; Bergen St</td>\n",
       "      <td>40.684967</td>\n",
       "      <td>-73.986208</td>\n",
       "      <td>34173</td>\n",
       "      <td>Subscriber</td>\n",
       "      <td>1</td>\n",
       "      <td>118</td>\n",
       "    </tr>\n",
       "    <tr>\n",
       "      <th>...</th>\n",
       "      <td>...</td>\n",
       "      <td>...</td>\n",
       "      <td>...</td>\n",
       "      <td>...</td>\n",
       "      <td>...</td>\n",
       "      <td>...</td>\n",
       "      <td>...</td>\n",
       "      <td>...</td>\n",
       "      <td>...</td>\n",
       "      <td>...</td>\n",
       "      <td>...</td>\n",
       "      <td>...</td>\n",
       "    </tr>\n",
       "    <tr>\n",
       "      <th>299882</th>\n",
       "      <td>2018-09-05 19:07:25.4010</td>\n",
       "      <td>2018-09-05 19:35:36.5000</td>\n",
       "      <td>Amsterdam Ave &amp; W 66 St</td>\n",
       "      <td>40.774667</td>\n",
       "      <td>-73.984706</td>\n",
       "      <td>Cathedral Pkwy &amp; Broadway</td>\n",
       "      <td>40.804213</td>\n",
       "      <td>-73.966991</td>\n",
       "      <td>16376</td>\n",
       "      <td>Subscriber</td>\n",
       "      <td>1</td>\n",
       "      <td>64</td>\n",
       "    </tr>\n",
       "    <tr>\n",
       "      <th>299883</th>\n",
       "      <td>2018-09-05 19:07:24.9130</td>\n",
       "      <td>2018-09-05 19:20:20.2760</td>\n",
       "      <td>W 4 St &amp; 7 Ave S</td>\n",
       "      <td>40.734011</td>\n",
       "      <td>-74.002939</td>\n",
       "      <td>E 2 St &amp; Avenue A</td>\n",
       "      <td>40.723077</td>\n",
       "      <td>-73.985836</td>\n",
       "      <td>29943</td>\n",
       "      <td>Subscriber</td>\n",
       "      <td>2</td>\n",
       "      <td>70</td>\n",
       "    </tr>\n",
       "    <tr>\n",
       "      <th>299946</th>\n",
       "      <td>2018-09-05 19:08:06.4620</td>\n",
       "      <td>2018-09-05 19:20:16.0180</td>\n",
       "      <td>Henry St &amp; Grand St</td>\n",
       "      <td>40.714215</td>\n",
       "      <td>-73.981346</td>\n",
       "      <td>Lafayette St &amp; E 8 St</td>\n",
       "      <td>40.730207</td>\n",
       "      <td>-73.991026</td>\n",
       "      <td>30951</td>\n",
       "      <td>Subscriber</td>\n",
       "      <td>1</td>\n",
       "      <td>71</td>\n",
       "    </tr>\n",
       "    <tr>\n",
       "      <th>299957</th>\n",
       "      <td>2018-09-05 19:08:12.5770</td>\n",
       "      <td>2018-09-05 19:42:24.0340</td>\n",
       "      <td>Market St &amp; Cherry St</td>\n",
       "      <td>40.710762</td>\n",
       "      <td>-73.994004</td>\n",
       "      <td>Catherine St &amp; Monroe St</td>\n",
       "      <td>40.711174</td>\n",
       "      <td>-73.996826</td>\n",
       "      <td>31453</td>\n",
       "      <td>Subscriber</td>\n",
       "      <td>1</td>\n",
       "      <td>76</td>\n",
       "    </tr>\n",
       "    <tr>\n",
       "      <th>299990</th>\n",
       "      <td>2018-09-05 19:08:26.2640</td>\n",
       "      <td>2018-09-05 19:44:53.7800</td>\n",
       "      <td>Columbus Ave &amp; W 72 St</td>\n",
       "      <td>40.777057</td>\n",
       "      <td>-73.978985</td>\n",
       "      <td>Hudson St &amp; Reade St</td>\n",
       "      <td>40.716250</td>\n",
       "      <td>-74.009106</td>\n",
       "      <td>26377</td>\n",
       "      <td>Subscriber</td>\n",
       "      <td>1</td>\n",
       "      <td>66</td>\n",
       "    </tr>\n",
       "  </tbody>\n",
       "</table>\n",
       "<p>11837 rows × 12 columns</p>\n",
       "</div>"
      ],
      "text/plain": [
       "                       starttime                  stoptime  \\\n",
       "53      2018-09-01 00:04:20.9200  2018-09-01 00:11:21.6180   \n",
       "373     2018-09-01 00:25:47.6740  2018-09-01 00:39:31.7160   \n",
       "405     2018-09-01 00:29:10.1630  2018-09-01 00:44:08.6110   \n",
       "435     2018-09-01 00:31:21.7250  2018-09-01 00:41:57.9200   \n",
       "457     2018-09-01 00:33:19.8080  2018-09-01 00:37:29.9270   \n",
       "...                          ...                       ...   \n",
       "299882  2018-09-05 19:07:25.4010  2018-09-05 19:35:36.5000   \n",
       "299883  2018-09-05 19:07:24.9130  2018-09-05 19:20:20.2760   \n",
       "299946  2018-09-05 19:08:06.4620  2018-09-05 19:20:16.0180   \n",
       "299957  2018-09-05 19:08:12.5770  2018-09-05 19:42:24.0340   \n",
       "299990  2018-09-05 19:08:26.2640  2018-09-05 19:44:53.7800   \n",
       "\n",
       "                       start station name  start station latitude  \\\n",
       "53      Grand Army Plaza & Central Park S               40.764397   \n",
       "373                   Mott St & Prince St               40.723180   \n",
       "405                     Avenue D & E 3 St               40.720828   \n",
       "435                    Broadway & W 56 St               40.765265   \n",
       "457                  Warren St & Court St               40.686371   \n",
       "...                                   ...                     ...   \n",
       "299882            Amsterdam Ave & W 66 St               40.774667   \n",
       "299883                   W 4 St & 7 Ave S               40.734011   \n",
       "299946                Henry St & Grand St               40.714215   \n",
       "299957              Market St & Cherry St               40.710762   \n",
       "299990             Columbus Ave & W 72 St               40.777057   \n",
       "\n",
       "        start station longitude           end station name  \\\n",
       "53                   -73.973715         Broadway & W 53 St   \n",
       "373                  -73.994800        Mott St & Prince St   \n",
       "405                  -73.977932         Avenue D & E 12 St   \n",
       "435                  -73.981923           W 37 St & 10 Ave   \n",
       "457                  -73.993833        Bond St & Bergen St   \n",
       "...                         ...                        ...   \n",
       "299882               -73.984706  Cathedral Pkwy & Broadway   \n",
       "299883               -74.002939          E 2 St & Avenue A   \n",
       "299946               -73.981346      Lafayette St & E 8 St   \n",
       "299957               -73.994004   Catherine St & Monroe St   \n",
       "299990               -73.978985       Hudson St & Reade St   \n",
       "\n",
       "        end station latitude  end station longitude  bikeid    usertype  \\\n",
       "53                 40.763441             -73.982681   24824  Subscriber   \n",
       "373                40.723180             -73.994800   26083  Subscriber   \n",
       "405                40.725806             -73.974225   33436  Subscriber   \n",
       "435                40.756604             -73.997901   19894  Subscriber   \n",
       "457                40.684967             -73.986208   34173  Subscriber   \n",
       "...                      ...                    ...     ...         ...   \n",
       "299882             40.804213             -73.966991   16376  Subscriber   \n",
       "299883             40.723077             -73.985836   29943  Subscriber   \n",
       "299946             40.730207             -73.991026   30951  Subscriber   \n",
       "299957             40.711174             -73.996826   31453  Subscriber   \n",
       "299990             40.716250             -74.009106   26377  Subscriber   \n",
       "\n",
       "        gender  age  \n",
       "53           2   63  \n",
       "373          2   68  \n",
       "405          2   61  \n",
       "435          2   63  \n",
       "457          1  118  \n",
       "...        ...  ...  \n",
       "299882       1   64  \n",
       "299883       2   70  \n",
       "299946       1   71  \n",
       "299957       1   76  \n",
       "299990       1   66  \n",
       "\n",
       "[11837 rows x 12 columns]"
      ]
     },
     "execution_count": 21,
     "metadata": {},
     "output_type": "execute_result"
    }
   ],
   "source": [
    "df[df['age'] > 60]"
   ]
  },
  {
   "cell_type": "code",
   "execution_count": 22,
   "metadata": {
    "executionInfo": {
     "elapsed": 219,
     "status": "ok",
     "timestamp": 1751966229933,
     "user": {
      "displayName": "Алексей Косухин",
      "userId": "02447672224037510931"
     },
     "user_tz": -180
    },
    "id": "4NwhfNo0UM70"
   },
   "outputs": [],
   "source": [
    "df['starttime'] = pd.to_datetime(df['starttime'])\n",
    "df['stoptime'] = pd.to_datetime(df['stoptime'])\n",
    "df['trip duration'] = df['stoptime'] - df['starttime']"
   ]
  },
  {
   "cell_type": "code",
   "execution_count": 23,
   "metadata": {
    "colab": {
     "base_uri": "https://localhost:8080/"
    },
    "executionInfo": {
     "elapsed": 6,
     "status": "ok",
     "timestamp": 1751966279676,
     "user": {
      "displayName": "Алексей Косухин",
      "userId": "02447672224037510931"
     },
     "user_tz": -180
    },
    "id": "FPOxLEzFUyOk",
    "outputId": "6ab68e6d-5868-473d-bc3f-21353e381a92"
   },
   "outputs": [
    {
     "data": {
      "text/plain": [
       "Timedelta('0 days 00:07:16.837000')"
      ]
     },
     "execution_count": 23,
     "metadata": {},
     "output_type": "execute_result"
    }
   ],
   "source": [
    "df.loc[3, 'trip duration']"
   ]
  },
  {
   "cell_type": "code",
   "execution_count": 24,
   "metadata": {
    "colab": {
     "base_uri": "https://localhost:8080/",
     "height": 178
    },
    "executionInfo": {
     "elapsed": 315,
     "status": "ok",
     "timestamp": 1751966455533,
     "user": {
      "displayName": "Алексей Косухин",
      "userId": "02447672224037510931"
     },
     "user_tz": -180
    },
    "id": "zyqVFHzUU-c6",
    "outputId": "66003288-7053-452b-bc5b-cbfc90a1e843"
   },
   "outputs": [
    {
     "data": {
      "text/plain": [
       "Weekend\n",
       "0    184865\n",
       "1    115135\n",
       "Name: count, dtype: int64"
      ]
     },
     "execution_count": 24,
     "metadata": {},
     "output_type": "execute_result"
    }
   ],
   "source": [
    "df['Day_of_week'] = df['starttime'].dt.day_name()\n",
    "df['Weekend'] = df['Day_of_week'].apply(lambda x: 1 if x in ['Saturday', 'Sunday'] else 0)\n",
    "df['Weekend'].value_counts()"
   ]
  },
  {
   "cell_type": "markdown",
   "metadata": {
    "id": "Y6mklGYwVwUP"
   },
   "source": [
    "\n",
    "Создайте признак времени суток поездки time_of_day. Время суток будем определять из часа начала поездки. Условимся, что:\n",
    "поездка совершается ночью (night), если её час приходится на интервал от 0 (включительно) до 6 (включительно) часов;\n",
    "поездка совершается утром (morning), если её час приходится на интервал от 6 (не включительно) до 12 (включительно) часов;\n",
    "поездка совершается днём (day), если её час приходится на интервал от 12 (не включительно) до 18 (включительно) часов;\n",
    "поездка совершается вечером (evening), если её час приходится на интервал от 18 (не включительно) до 23 часов (включительно).\n",
    "Во сколько раз количество поездок, совершённых днём, больше, чем количество поездок, совёршенных ночью, за представленный в данных период времени? Ответ округлите до целых."
   ]
  },
  {
   "cell_type": "code",
   "execution_count": 25,
   "metadata": {
    "executionInfo": {
     "elapsed": 8,
     "status": "ok",
     "timestamp": 1751966696286,
     "user": {
      "displayName": "Алексей Косухин",
      "userId": "02447672224037510931"
     },
     "user_tz": -180
    },
    "id": "dvqt0vC3V0Uw"
   },
   "outputs": [],
   "source": [
    "def func_day(hour):\n",
    "  if hour in [0, 1, 2, 3, 4, 5, 6]:\n",
    "    return 'night'\n",
    "  elif hour in [7, 8, 9, 10, 11, 12]:\n",
    "    return 'morning'\n",
    "  elif hour in [13, 14, 15, 16, 17, 18]:\n",
    "    return 'day'\n",
    "  elif hour in [19, 20, 21, 22, 23]:\n",
    "    return 'evening'\n"
   ]
  },
  {
   "cell_type": "code",
   "execution_count": 26,
   "metadata": {
    "executionInfo": {
     "elapsed": 3,
     "status": "ok",
     "timestamp": 1751966994340,
     "user": {
      "displayName": "Алексей Косухин",
      "userId": "02447672224037510931"
     },
     "user_tz": -180
    },
    "id": "XTMMAO6DVS0H"
   },
   "outputs": [],
   "source": [
    "df['hour_of_day'] = df['starttime'].dt.hour"
   ]
  },
  {
   "cell_type": "code",
   "execution_count": 27,
   "metadata": {
    "executionInfo": {
     "elapsed": 2,
     "status": "ok",
     "timestamp": 1751967044364,
     "user": {
      "displayName": "Алексей Косухин",
      "userId": "02447672224037510931"
     },
     "user_tz": -180
    },
    "id": "uv4XmhgsXs6s"
   },
   "outputs": [],
   "source": [
    "df['time_of_day'] = df['hour_of_day'].apply(func_day)"
   ]
  },
  {
   "cell_type": "code",
   "execution_count": 28,
   "metadata": {
    "colab": {
     "base_uri": "https://localhost:8080/"
    },
    "executionInfo": {
     "elapsed": 139,
     "status": "ok",
     "timestamp": 1751967109917,
     "user": {
      "displayName": "Алексей Косухин",
      "userId": "02447672224037510931"
     },
     "user_tz": -180
    },
    "id": "5-ou65wsXth8",
    "outputId": "3319de29-86fa-4e2c-e516-3a0bb6528888"
   },
   "outputs": [
    {
     "data": {
      "text/plain": [
       "9.480411004308916"
      ]
     },
     "execution_count": 28,
     "metadata": {},
     "output_type": "execute_result"
    }
   ],
   "source": [
    "df[df['time_of_day'] == 'day'].shape[0]/df[df['time_of_day'] == 'night'].shape[0]"
   ]
  },
  {
   "cell_type": "code",
   "execution_count": null,
   "metadata": {
    "id": "6w5xCB_-YJGd"
   },
   "outputs": [],
   "source": []
  }
 ],
 "metadata": {
  "colab": {
   "authorship_tag": "ABX9TyMSw1r/36O9GpTUF+IGEmDz",
   "provenance": []
  },
  "kernelspec": {
   "display_name": "base",
   "language": "python",
   "name": "python3"
  },
  "language_info": {
   "codemirror_mode": {
    "name": "ipython",
    "version": 3
   },
   "file_extension": ".py",
   "mimetype": "text/x-python",
   "name": "python",
   "nbconvert_exporter": "python",
   "pygments_lexer": "ipython3",
   "version": "3.12.4"
  }
 },
 "nbformat": 4,
 "nbformat_minor": 0
}
